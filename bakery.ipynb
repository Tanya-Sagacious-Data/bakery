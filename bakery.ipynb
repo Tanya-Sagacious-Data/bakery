{
 "cells": [
  {
   "cell_type": "code",
   "execution_count": 1,
   "metadata": {
    "ExecuteTime": {
     "end_time": "2018-11-25T16:32:08.690901",
     "start_time": "2018-11-25T16:32:07.080899"
    },
    "collapsed": true
   },
   "outputs": [],
   "source": [
    "import pandas\n",
    "import matplotlib.pyplot as plt\n",
    "import networkx as nx\n",
    "from datetime import datetime\n",
    "import itertools\n",
    "import time\n",
    "import operator\n",
    "%matplotlib inline"
   ]
  },
  {
   "cell_type": "code",
   "execution_count": 2,
   "metadata": {
    "ExecuteTime": {
     "end_time": "2018-11-25T16:32:08.722079",
     "start_time": "2018-11-25T16:32:08.692499"
    },
    "collapsed": false
   },
   "outputs": [
    {
     "name": "stdout",
     "output_type": "stream",
     "text": [
      "21293 9531 95\n"
     ]
    },
    {
     "data": {
      "text/html": [
       "<div>\n",
       "<style>\n",
       "    .dataframe thead tr:only-child th {\n",
       "        text-align: right;\n",
       "    }\n",
       "\n",
       "    .dataframe thead th {\n",
       "        text-align: left;\n",
       "    }\n",
       "\n",
       "    .dataframe tbody tr th {\n",
       "        vertical-align: top;\n",
       "    }\n",
       "</style>\n",
       "<table border=\"1\" class=\"dataframe\">\n",
       "  <thead>\n",
       "    <tr style=\"text-align: right;\">\n",
       "      <th></th>\n",
       "      <th>Date</th>\n",
       "      <th>Time</th>\n",
       "      <th>Transaction</th>\n",
       "      <th>Item</th>\n",
       "    </tr>\n",
       "  </thead>\n",
       "  <tbody>\n",
       "    <tr>\n",
       "      <th>0</th>\n",
       "      <td>2016-10-30</td>\n",
       "      <td>09:58:11</td>\n",
       "      <td>1</td>\n",
       "      <td>Bread</td>\n",
       "    </tr>\n",
       "    <tr>\n",
       "      <th>1</th>\n",
       "      <td>2016-10-30</td>\n",
       "      <td>10:05:34</td>\n",
       "      <td>2</td>\n",
       "      <td>Scandinavian</td>\n",
       "    </tr>\n",
       "    <tr>\n",
       "      <th>2</th>\n",
       "      <td>2016-10-30</td>\n",
       "      <td>10:05:34</td>\n",
       "      <td>2</td>\n",
       "      <td>Scandinavian</td>\n",
       "    </tr>\n",
       "    <tr>\n",
       "      <th>3</th>\n",
       "      <td>2016-10-30</td>\n",
       "      <td>10:07:57</td>\n",
       "      <td>3</td>\n",
       "      <td>Hot chocolate</td>\n",
       "    </tr>\n",
       "    <tr>\n",
       "      <th>4</th>\n",
       "      <td>2016-10-30</td>\n",
       "      <td>10:07:57</td>\n",
       "      <td>3</td>\n",
       "      <td>Jam</td>\n",
       "    </tr>\n",
       "  </tbody>\n",
       "</table>\n",
       "</div>"
      ],
      "text/plain": [
       "         Date      Time  Transaction           Item\n",
       "0  2016-10-30  09:58:11            1          Bread\n",
       "1  2016-10-30  10:05:34            2   Scandinavian\n",
       "2  2016-10-30  10:05:34            2   Scandinavian\n",
       "3  2016-10-30  10:07:57            3  Hot chocolate\n",
       "4  2016-10-30  10:07:57            3            Jam"
      ]
     },
     "execution_count": 2,
     "metadata": {},
     "output_type": "execute_result"
    }
   ],
   "source": [
    "df = pandas.read_csv('BreadBasket_DMS.csv')\n",
    "print(len(df), df['Transaction'].nunique(), df['Item'].nunique())\n",
    "df.head()"
   ]
  },
  {
   "cell_type": "markdown",
   "metadata": {},
   "source": [
    "### understand the date range of the dataset"
   ]
  },
  {
   "cell_type": "code",
   "execution_count": 3,
   "metadata": {
    "ExecuteTime": {
     "end_time": "2018-11-25T16:32:08.734859",
     "start_time": "2018-11-25T16:32:08.724622"
    },
    "collapsed": false
   },
   "outputs": [
    {
     "name": "stdout",
     "output_type": "stream",
     "text": [
      "2016-10-30\n",
      "2017-04-09\n"
     ]
    }
   ],
   "source": [
    "print(df['Date'].min())\n",
    "print(df['Date'].max())"
   ]
  },
  {
   "cell_type": "code",
   "execution_count": 4,
   "metadata": {
    "ExecuteTime": {
     "end_time": "2018-11-25T16:32:08.749909",
     "start_time": "2018-11-25T16:32:08.737688"
    },
    "collapsed": false
   },
   "outputs": [
    {
     "name": "stdout",
     "output_type": "stream",
     "text": [
      "161\n"
     ]
    },
    {
     "data": {
      "text/plain": [
       "159"
      ]
     },
     "execution_count": 4,
     "metadata": {},
     "output_type": "execute_result"
    }
   ],
   "source": [
    "## how many days are there between the datasets first and last date\n",
    "print((datetime.strptime(df['Date'].max(), '%Y-%m-%d') - datetime.strptime(df['Date'].min(), '%Y-%m-%d')).days)\n",
    "\n",
    "## how many days are there in the dataset\n",
    "df['Date'].nunique()"
   ]
  },
  {
   "cell_type": "markdown",
   "metadata": {},
   "source": [
    "###  explore the items sold"
   ]
  },
  {
   "cell_type": "code",
   "execution_count": 5,
   "metadata": {
    "ExecuteTime": {
     "end_time": "2018-11-25T16:32:08.764066",
     "start_time": "2018-11-25T16:32:08.752370"
    },
    "collapsed": false
   },
   "outputs": [
    {
     "name": "stdout",
     "output_type": "stream",
     "text": [
      "95\n"
     ]
    },
    {
     "data": {
      "text/plain": [
       "Item\n",
       "Coffee           5471\n",
       "Bread            3325\n",
       "Tea              1435\n",
       "Cake             1025\n",
       "Pastry            856\n",
       "NONE              786\n",
       "Sandwich          771\n",
       "Medialuna         616\n",
       "Hot chocolate     590\n",
       "Cookies           540\n",
       "dtype: int64"
      ]
     },
     "execution_count": 5,
     "metadata": {},
     "output_type": "execute_result"
    }
   ],
   "source": [
    "print(df['Item'].nunique())\n",
    "df.groupby('Item').size().sort_values(ascending = False).head(10)"
   ]
  },
  {
   "cell_type": "markdown",
   "metadata": {},
   "source": [
    "#### remove NONE item"
   ]
  },
  {
   "cell_type": "code",
   "execution_count": 6,
   "metadata": {
    "ExecuteTime": {
     "end_time": "2018-11-25T16:32:08.775487",
     "start_time": "2018-11-25T16:32:08.765693"
    },
    "collapsed": false
   },
   "outputs": [
    {
     "name": "stdout",
     "output_type": "stream",
     "text": [
      "21293\n",
      "20507\n"
     ]
    }
   ],
   "source": [
    "print(len(df))\n",
    "df = df[df['Item']!='NONE']\n",
    "print(len(df))"
   ]
  },
  {
   "cell_type": "markdown",
   "metadata": {},
   "source": [
    "## create an undirected weighted graph with all the items that appear on the same transaction"
   ]
  },
  {
   "cell_type": "markdown",
   "metadata": {},
   "source": [
    "* The nodes in the graph are all the unique items that were purchased from the bakery.\n",
    "* There will be an undirected edge between item x and item y if x and y appear in the same transaction.\n",
    "    * Hence, a transaction that has 3 items, x,y,z, in it will produce 3 edges: (x,y), (x,z), (y,z).\n",
    "* The edge between x and y will be weighted according to the number of transaction that x and y appear in together.\n",
    "* If a transaction has only iteam x in it,  there will be a self edge between x and x in the graph."
   ]
  },
  {
   "cell_type": "code",
   "execution_count": 7,
   "metadata": {
    "ExecuteTime": {
     "end_time": "2018-11-25T16:32:09.914616",
     "start_time": "2018-11-25T16:32:08.778118"
    },
    "collapsed": false
   },
   "outputs": [
    {
     "data": {
      "text/html": [
       "<div>\n",
       "<style>\n",
       "    .dataframe thead tr:only-child th {\n",
       "        text-align: right;\n",
       "    }\n",
       "\n",
       "    .dataframe thead th {\n",
       "        text-align: left;\n",
       "    }\n",
       "\n",
       "    .dataframe tbody tr th {\n",
       "        vertical-align: top;\n",
       "    }\n",
       "</style>\n",
       "<table border=\"1\" class=\"dataframe\">\n",
       "  <thead>\n",
       "    <tr style=\"text-align: right;\">\n",
       "      <th></th>\n",
       "      <th>Transaction</th>\n",
       "      <th>items</th>\n",
       "      <th>num_items</th>\n",
       "    </tr>\n",
       "  </thead>\n",
       "  <tbody>\n",
       "    <tr>\n",
       "      <th>0</th>\n",
       "      <td>1</td>\n",
       "      <td>[Bread]</td>\n",
       "      <td>1</td>\n",
       "    </tr>\n",
       "    <tr>\n",
       "      <th>1</th>\n",
       "      <td>2</td>\n",
       "      <td>[Scandinavian]</td>\n",
       "      <td>1</td>\n",
       "    </tr>\n",
       "    <tr>\n",
       "      <th>2</th>\n",
       "      <td>3</td>\n",
       "      <td>[Hot chocolate, Jam, Cookies]</td>\n",
       "      <td>3</td>\n",
       "    </tr>\n",
       "    <tr>\n",
       "      <th>3</th>\n",
       "      <td>4</td>\n",
       "      <td>[Muffin]</td>\n",
       "      <td>1</td>\n",
       "    </tr>\n",
       "    <tr>\n",
       "      <th>4</th>\n",
       "      <td>5</td>\n",
       "      <td>[Coffee, Pastry, Bread]</td>\n",
       "      <td>3</td>\n",
       "    </tr>\n",
       "  </tbody>\n",
       "</table>\n",
       "</div>"
      ],
      "text/plain": [
       "   Transaction                          items  num_items\n",
       "0            1                        [Bread]          1\n",
       "1            2                 [Scandinavian]          1\n",
       "2            3  [Hot chocolate, Jam, Cookies]          3\n",
       "3            4                       [Muffin]          1\n",
       "4            5        [Coffee, Pastry, Bread]          3"
      ]
     },
     "execution_count": 7,
     "metadata": {},
     "output_type": "execute_result"
    }
   ],
   "source": [
    "## produce a dataframe with a list of all the unique iteams for each transaction.\n",
    "\n",
    "item_combinations = pandas.DataFrame({'items' : df.groupby('Transaction')['Item'].unique(),\n",
    "                                     'num_items' : df.groupby('Transaction')['Item'].nunique() })\n",
    "item_combinations.reset_index(inplace = True)\n",
    "\n",
    "item_combinations.head()"
   ]
  },
  {
   "cell_type": "code",
   "execution_count": 8,
   "metadata": {
    "ExecuteTime": {
     "end_time": "2018-11-25T16:32:10.018531",
     "start_time": "2018-11-25T16:32:09.916018"
    },
    "collapsed": false
   },
   "outputs": [
    {
     "data": {
      "text/plain": [
       "{'boxes': [<matplotlib.lines.Line2D at 0x113580fd0>],\n",
       " 'caps': [<matplotlib.lines.Line2D at 0x113589a20>,\n",
       "  <matplotlib.lines.Line2D at 0x113589e48>],\n",
       " 'fliers': [<matplotlib.lines.Line2D at 0x1135956d8>],\n",
       " 'means': [],\n",
       " 'medians': [<matplotlib.lines.Line2D at 0x1135952b0>],\n",
       " 'whiskers': [<matplotlib.lines.Line2D at 0x113589160>,\n",
       "  <matplotlib.lines.Line2D at 0x1135895f8>]}"
      ]
     },
     "execution_count": 8,
     "metadata": {},
     "output_type": "execute_result"
    },
    {
     "data": {
      "image/png": "[encoded data removed]",
      "text/plain": [
       "<Figure size 432x288 with 1 Axes>"
      ]
     },
     "metadata": {},
     "output_type": "display_data"
    }
   ],
   "source": [
    "plt.boxplot(item_combinations['num_items'])"
   ]
  },
  {
   "cell_type": "code",
   "execution_count": 9,
   "metadata": {
    "ExecuteTime": {
     "end_time": "2018-11-25T16:32:10.028818",
     "start_time": "2018-11-25T16:32:10.020102"
    },
    "collapsed": false
   },
   "outputs": [],
   "source": [
    "# function to take a list of items and a graph G and add all the appropriate edges to G\n",
    "\n",
    "def add_edges_for_same_transaction(list, G):\n",
    "    if len(list) == 1: ##if there is only one item in the transaction add a self-edge\n",
    "        if G.has_edge(list[0], list[0]):\n",
    "            G[list[0]][list[0]]['weight'] += 1 #if this edge already exists, just increase its weight by one\n",
    "        else:\n",
    "            G.add_edge(list[0], list[0], weight = 1) #othewise add the edge\n",
    "        return G\n",
    "    \n",
    "    for couple in itertools.combinations(list, 2): #get all combinations of size 2 from each transaction\n",
    "        if G.has_edge(couple[0], couple[1]):\n",
    "            G[couple[0]][couple[1]]['weight'] += 1 \n",
    "        else:\n",
    "            G.add_edge(couple[0], couple[1], weight = 1) #the graph is undirected, so it doesn't matter which iteam comes first\n",
    "\n",
    "    return G"
   ]
  },
  {
   "cell_type": "code",
   "execution_count": 10,
   "metadata": {
    "ExecuteTime": {
     "end_time": "2018-11-25T16:32:10.349094",
     "start_time": "2018-11-25T16:32:10.031147"
    },
    "collapsed": false
   },
   "outputs": [
    {
     "name": "stdout",
     "output_type": "stream",
     "text": [
      "94\n",
      "1112\n",
      "0.2487640380859375\n",
      "94\n",
      "1112\n",
      "0.05681896209716797\n"
     ]
    }
   ],
   "source": [
    "# create the graph object and populate it according to item_combinations dataframe using the function above\n",
    "\n",
    "## two ways of achieving the same thing.\n",
    "## the for loop approach is much slower than the apply appraoch\n",
    "\n",
    "start = time.time()\n",
    "G = nx.Graph()\n",
    "for i in range(len(item_combinations)):\n",
    "    temp = item_combinations['items'][i]\n",
    "    G = add_edges_for_same_transaction(temp, G)\n",
    "\n",
    "print(G.number_of_nodes())\n",
    "print(G.number_of_edges())\n",
    "print(time.time() - start)\n",
    "\n",
    "start = time.time()\n",
    "G = nx.Graph()\n",
    "G = item_combinations['items'].apply(lambda x: add_edges_for_same_transaction(x, G))[0]\n",
    "print(G.number_of_nodes())\n",
    "print(G.number_of_edges())\n",
    "print(time.time() - start)"
   ]
  },
  {
   "cell_type": "markdown",
   "metadata": {},
   "source": [
    "## explore the resulting graph"
   ]
  },
  {
   "cell_type": "code",
   "execution_count": 11,
   "metadata": {
    "ExecuteTime": {
     "end_time": "2018-11-25T16:32:10.590196",
     "start_time": "2018-11-25T16:32:10.350684"
    },
    "collapsed": false
   },
   "outputs": [
    {
     "name": "stdout",
     "output_type": "stream",
     "text": [
      "94\n",
      "1112\n"
     ]
    }
   ],
   "source": [
    "G = nx.Graph()\n",
    "for i in range(len(item_combinations)):\n",
    "    temp = item_combinations['items'][i]\n",
    "    G = add_edges_for_same_transaction(temp, G)\n",
    "\n",
    "print(G.number_of_nodes())\n",
    "print(G.number_of_edges())"
   ]
  },
  {
   "cell_type": "markdown",
   "metadata": {},
   "source": [
    "### draw the Graph"
   ]
  },
  {
   "cell_type": "code",
   "execution_count": 12,
   "metadata": {
    "ExecuteTime": {
     "end_time": "2018-11-25T16:32:11.029186",
     "start_time": "2018-11-25T16:32:10.592043"
    },
    "collapsed": false
   },
   "outputs": [
    {
     "data": {
      "image/png": "[encoded data removed]",
      "text/plain": [
       "<Figure size 432x288 with 1 Axes>"
      ]
     },
     "metadata": {},
     "output_type": "display_data"
    }
   ],
   "source": [
    "nx.draw(G, with_labels = True)"
   ]
  },
  {
   "cell_type": "markdown",
   "metadata": {},
   "source": [
    "drawing the graph is not very helpful since everything is compressed."
   ]
  },
  {
   "cell_type": "markdown",
   "metadata": {},
   "source": [
    "### add a notion of distance to the graph"
   ]
  },
  {
   "cell_type": "code",
   "execution_count": 13,
   "metadata": {
    "ExecuteTime": {
     "end_time": "2018-11-25T16:32:11.038455",
     "start_time": "2018-11-25T16:32:11.030960"
    },
    "collapsed": true
   },
   "outputs": [],
   "source": [
    "#this code take the weight of each edge and sets the attibute distance for that edge to be the reverse\n",
    "\n",
    "g_distance_dict = {(e1, e2): 1 / weight for e1, e2, weight in G.edges(data='weight')}\n",
    "nx.set_edge_attributes(G, g_distance_dict, 'distance')"
   ]
  },
  {
   "cell_type": "markdown",
   "metadata": {},
   "source": [
    "The idea behind the above transformation is that the higher the weight between item x and y, the more frequently they appear together in transactions and hence the closer we want to consider them"
   ]
  },
  {
   "cell_type": "markdown",
   "metadata": {},
   "source": [
    "### Degrees"
   ]
  },
  {
   "cell_type": "code",
   "execution_count": 14,
   "metadata": {
    "ExecuteTime": {
     "end_time": "2018-11-25T16:32:11.048248",
     "start_time": "2018-11-25T16:32:11.041166"
    },
    "collapsed": false
   },
   "outputs": [
    {
     "data": {
      "text/plain": [
       "[('Coffee', 79),\n",
       " ('Bread', 75),\n",
       " ('Tea', 68),\n",
       " ('Cake', 64),\n",
       " ('Juice', 58),\n",
       " ('Hot chocolate', 57),\n",
       " ('Cookies', 56),\n",
       " ('Sandwich', 54),\n",
       " ('Brownie', 53),\n",
       " ('Muffin', 52)]"
      ]
     },
     "execution_count": 14,
     "metadata": {},
     "output_type": "execute_result"
    }
   ],
   "source": [
    "#Top 10 highest degrees\n",
    "sorted_degrees = sorted(dict(nx.degree(G)).items(), key=operator.itemgetter(1), reverse = True)\n",
    "sorted_degrees[:10]"
   ]
  },
  {
   "cell_type": "code",
   "execution_count": 15,
   "metadata": {
    "ExecuteTime": {
     "end_time": "2018-11-25T16:32:11.061521",
     "start_time": "2018-11-25T16:32:11.050241"
    },
    "collapsed": false
   },
   "outputs": [
    {
     "data": {
      "text/plain": [
       "[('Coffee', 7285),\n",
       " ('Bread', 4722),\n",
       " ('Tea', 2572),\n",
       " ('Cake', 1997),\n",
       " ('Pastry', 1424),\n",
       " ('Sandwich', 1404),\n",
       " ('Hot chocolate', 1211),\n",
       " ('Medialuna', 1107),\n",
       " ('Cookies', 1080),\n",
       " ('Juice', 973)]"
      ]
     },
     "execution_count": 15,
     "metadata": {},
     "output_type": "execute_result"
    }
   ],
   "source": [
    "degrees = dict(nx.degree(G, weight = 'weight'))\n",
    "\n",
    "## the following loop is to address the fact that nx.degress doublecounts the nodes that have a self edge.\n",
    "## if the node coffee has 10 edges with itself, the function will count that as 20 because. \n",
    "# So I am taking whatever the function returns and I substract once the number of selfedges, if there are any.\n",
    "for key in list(degrees.keys()):\n",
    "    try:\n",
    "        degrees[key] = degrees[key] - G[key][key]['weight']\n",
    "        #print('done')\n",
    "    except: #this node doesn't have any self edges\n",
    "        continue\n",
    "\n",
    "sorted_degrees_weight = sorted(degrees.items(), key=operator.itemgetter(1), reverse = True)\n",
    "sorted_degrees_weight[:10]"
   ]
  },
  {
   "cell_type": "markdown",
   "metadata": {
    "ExecuteTime": {
     "end_time": "2018-11-12T16:24:47.341957",
     "start_time": "2018-11-12T16:24:47.336500"
    }
   },
   "source": [
    "### ratio of self degreee to overall degree"
   ]
  },
  {
   "cell_type": "markdown",
   "metadata": {
    "ExecuteTime": {
     "end_time": "2018-11-12T16:22:58.535693",
     "start_time": "2018-11-12T16:22:58.531688"
    }
   },
   "source": [
    "What percent of the degree of each node is edges towards itself (i.e., self edges)?\n",
    "The smaller the number, it means that the item is less frequently purchased by itself."
   ]
  },
  {
   "cell_type": "code",
   "execution_count": 31,
   "metadata": {
    "ExecuteTime": {
     "end_time": "2018-11-25T16:34:00.711604",
     "start_time": "2018-11-25T16:34:00.705926"
    },
    "collapsed": false
   },
   "outputs": [
    {
     "name": "stdout",
     "output_type": "stream",
     "text": [
      "0.163761153054221\n",
      "0.1636238846945779\n",
      "0.02786547700754976\n"
     ]
    }
   ],
   "source": [
    "key = 'Coffee'\n",
    "#sorted_degrees_weight[0][1]\n",
    "print(G[key][key]['weight']/sorted_degrees_weight[0][1])\n",
    "key = 'Bread'\n",
    "#sorted_degrees_weight[0][1]\n",
    "print(G[key][key]['weight']/sorted_degrees_weight[0][1])\n",
    "key = 'Tea'\n",
    "#sorted_degrees_weight[0][1]\n",
    "print(G[key][key]['weight']/sorted_degrees_weight[0][1])\n"
   ]
  },
  {
   "cell_type": "code",
   "execution_count": 32,
   "metadata": {
    "ExecuteTime": {
     "end_time": "2018-11-25T16:34:38.273132",
     "start_time": "2018-11-25T16:34:38.262367"
    },
    "collapsed": false,
    "scrolled": true
   },
   "outputs": [
    {
     "data": {
      "text/plain": [
       "[('Adjustment', 1.0),\n",
       " ('Siblings', 1.0),\n",
       " ('Pintxos', 0.8333333333333334),\n",
       " ('Mortimer', 0.8),\n",
       " (\"Valentine's card\", 0.6666666666666666),\n",
       " ('Afternoon with the baker', 0.5166666666666667),\n",
       " ('Vegan Feast', 0.4166666666666667),\n",
       " ('Tshirt', 0.4),\n",
       " ('Farm House', 0.384321223709369),\n",
       " ('Christmas common', 0.3333333333333333),\n",
       " ('Baguette', 0.29767441860465116),\n",
       " ('Scandinavian', 0.28428927680798005),\n",
       " ('Argentina Night', 0.2727272727272727),\n",
       " ('Bread', 0.2524354087251165),\n",
       " ('Postcard', 0.25),\n",
       " ('Muesli', 0.23076923076923078),\n",
       " ('Coffee granules ', 0.2222222222222222),\n",
       " ('Fudge', 0.20161290322580644),\n",
       " ('Half slice Monster ', 0.18181818181818182),\n",
       " ('Dulce de Leche', 0.18181818181818182),\n",
       " ('Coffee', 0.163761153054221),\n",
       " ('Gingerbread syrup', 0.15384615384615385),\n",
       " ('Panatone', 0.15384615384615385),\n",
       " ('Jam', 0.1511627906976744),\n",
       " ('Focaccia', 0.13186813186813187),\n",
       " ('Coke', 0.12176165803108809),\n",
       " ('Eggs', 0.11538461538461539),\n",
       " ('Kids biscuit', 0.10526315789473684),\n",
       " ('Basket', 0.1),\n",
       " ('Victorian Sponge', 0.08333333333333333),\n",
       " ('Tea', 0.07892690513219285),\n",
       " ('Honey', 0.07692307692307693),\n",
       " ('Chicken Stew', 0.0636042402826855),\n",
       " ('Soup', 0.05891016200294551),\n",
       " ('Hot chocolate', 0.05697770437654831),\n",
       " ('Muffin', 0.055944055944055944),\n",
       " ('Mineral water', 0.05421686746987952),\n",
       " ('Medialuna', 0.051490514905149054),\n",
       " ('Cake', 0.04957436154231347),\n",
       " ('Sandwich', 0.04772079772079772),\n",
       " ('Bare Popcorn', 0.047619047619047616),\n",
       " (\"Ella's Kitchen Pouches\", 0.046511627906976744),\n",
       " ('Pastry', 0.04564606741573034),\n",
       " ('Tartine', 0.0449438202247191),\n",
       " ('Crisps', 0.043478260869565216),\n",
       " ('Brownie', 0.043256997455470736),\n",
       " ('Hearty & Seasonal', 0.041666666666666664),\n",
       " ('Cookies', 0.041666666666666664),\n",
       " ('Truffles', 0.03794642857142857),\n",
       " ('Scone', 0.0366412213740458),\n",
       " ('Tiffin', 0.03323262839879154),\n",
       " ('Alfajores', 0.032133676092544985),\n",
       " ('Salad', 0.03076923076923077),\n",
       " ('The Nomad', 0.02877697841726619),\n",
       " ('Granola', 0.028169014084507043),\n",
       " ('Vegan mincepie', 0.028037383177570093),\n",
       " ('Pick and Mix Bowls', 0.027777777777777776),\n",
       " ('Smoothies', 0.024875621890547265),\n",
       " ('Jammie Dodgers', 0.023972602739726026),\n",
       " ('Toast', 0.022328548644338118),\n",
       " ('Frittata', 0.022099447513812154),\n",
       " ('Juice', 0.020554984583761562),\n",
       " ('Bakewell', 0.018518518518518517),\n",
       " ('Spanish Brunch', 0.00904977375565611),\n",
       " ('Extra Salami or Feta', 0.008),\n",
       " ('Lemon and coconut', 0),\n",
       " ('Tacos/Fajita', 0),\n",
       " ('Empanadas', 0),\n",
       " ('Crepes', 0),\n",
       " ('Chicken sand', 0),\n",
       " ('Fairy Doors', 0),\n",
       " ('Drinking chocolate spoons ', 0),\n",
       " ('Raspberry shortbread sandwich', 0),\n",
       " ('Bacon', 0),\n",
       " ('Bowl Nic Pitt', 0),\n",
       " ('Gift voucher', 0),\n",
       " ('Hack the stack', 0),\n",
       " ('Duck egg', 0),\n",
       " ('Mighty Protein', 0),\n",
       " ('Caramel bites', 0),\n",
       " ('The BART', 0),\n",
       " ('Art Tray', 0),\n",
       " ('Bread Pudding', 0),\n",
       " ('Nomad bag', 0),\n",
       " ('Olum & polenta', 0),\n",
       " ('Brioche and salami', 0),\n",
       " ('Raw bars', 0),\n",
       " ('Cherry me Dried fruit', 0),\n",
       " ('Chimichurri Oil', 0),\n",
       " ('My-5 Fruit Shoot', 0),\n",
       " ('Polenta', 0),\n",
       " ('Keeping It Local', 0),\n",
       " ('Spread', 0),\n",
       " ('Chocolates', 0)]"
      ]
     },
     "execution_count": 32,
     "metadata": {},
     "output_type": "execute_result"
    }
   ],
   "source": [
    "self_edge_ratio = dict()\n",
    "\n",
    "for i in range(len(sorted_degrees_weight)):\n",
    "    key = sorted_degrees_weight[i][0]\n",
    "    try:\n",
    "        self_edge_ratio[key] = G[key][key]['weight']/(sorted_degrees_weight[i][1])\n",
    "    except:\n",
    "        self_edge_ratio[key] = 0 #this item doesnt have any edges with itself, hence no transactions that had only this item\n",
    "sorted(dict(self_edge_ratio).items(), key=operator.itemgetter(1), reverse = True)"
   ]
  },
  {
   "cell_type": "code",
   "execution_count": 18,
   "metadata": {
    "ExecuteTime": {
     "end_time": "2018-11-25T16:32:11.093947",
     "start_time": "2018-11-25T16:32:11.088454"
    },
    "collapsed": false
   },
   "outputs": [
    {
     "name": "stdout",
     "output_type": "stream",
     "text": [
      "[('Gift voucher', 0), ('Lemon and coconut', 0), ('Tacos/Fajita', 0), ('Empanadas', 0), ('Crepes', 0), ('Chicken sand', 0), ('Fairy Doors', 0), ('Drinking chocolate spoons ', 0), ('Chocolates', 0), ('Raspberry shortbread sandwich', 0)]\n"
     ]
    }
   ],
   "source": [
    "sorted_self_edge = sorted(self_edge_ratio.items(), key=operator.itemgetter(1), reverse = False)\n",
    "print(sorted_self_edge[:10])\n",
    "#self_edge_ratio['Coffee']"
   ]
  },
  {
   "cell_type": "markdown",
   "metadata": {},
   "source": [
    "### Explore the connectivity of the graph"
   ]
  },
  {
   "cell_type": "code",
   "execution_count": 19,
   "metadata": {
    "ExecuteTime": {
     "end_time": "2018-11-25T16:32:11.101390",
     "start_time": "2018-11-25T16:32:11.096494"
    },
    "collapsed": false
   },
   "outputs": [
    {
     "name": "stdout",
     "output_type": "stream",
     "text": [
      "False\n"
     ]
    }
   ],
   "source": [
    "#is the graph connected?\n",
    "print(nx.is_connected(G))\n",
    "\n",
    "for x in nx.connected_components(G):\n",
    "    connected_component = list(x)\n",
    "    break"
   ]
  },
  {
   "cell_type": "markdown",
   "metadata": {},
   "source": [
    "### path centrality"
   ]
  },
  {
   "cell_type": "code",
   "execution_count": 20,
   "metadata": {
    "ExecuteTime": {
     "end_time": "2018-11-25T16:32:14.903222",
     "start_time": "2018-11-25T16:32:11.103424"
    },
    "collapsed": false
   },
   "outputs": [],
   "source": [
    "## how many closests paths, is each node involved in?\n",
    "dijkstra_paths = []\n",
    "\n",
    "for nodes in list(itertools.combinations(connected_component, 2)):\n",
    "    dijkstra_paths.append(nx.dijkstra_path(G, nodes[0], nodes[1], weight='distance'))"
   ]
  },
  {
   "cell_type": "code",
   "execution_count": 21,
   "metadata": {
    "ExecuteTime": {
     "end_time": "2018-11-25T16:32:14.913647",
     "start_time": "2018-11-25T16:32:14.904780"
    },
    "collapsed": true
   },
   "outputs": [],
   "source": [
    "## now go through each short path, and count how many paths does each node appear in\n",
    "\n",
    "num_occurences_in_path = dict()\n",
    "\n",
    "for path in dijkstra_paths:\n",
    "    for node in path:\n",
    "        if node in num_occurences_in_path.keys():\n",
    "            num_occurences_in_path[node] += 1\n",
    "        else:\n",
    "            num_occurences_in_path[node] = 1"
   ]
  },
  {
   "cell_type": "code",
   "execution_count": 33,
   "metadata": {
    "ExecuteTime": {
     "end_time": "2018-11-25T16:38:55.873512",
     "start_time": "2018-11-25T16:38:55.868229"
    },
    "collapsed": false
   },
   "outputs": [
    {
     "data": {
      "text/plain": [
       "4186"
      ]
     },
     "execution_count": 33,
     "metadata": {},
     "output_type": "execute_result"
    }
   ],
   "source": [
    "len(dijkstra_paths)"
   ]
  },
  {
   "cell_type": "code",
   "execution_count": 22,
   "metadata": {
    "ExecuteTime": {
     "end_time": "2018-11-25T16:32:14.925181",
     "start_time": "2018-11-25T16:32:14.916198"
    },
    "collapsed": false,
    "scrolled": true
   },
   "outputs": [
    {
     "data": {
      "text/plain": [
       "[('Coffee', 3950),\n",
       " ('Bread', 1012),\n",
       " ('Tea', 529),\n",
       " ('Scandinavian', 190),\n",
       " ('Art Tray', 182),\n",
       " ('Coke', 181),\n",
       " ('Coffee granules ', 181),\n",
       " ('Cake', 178),\n",
       " ('Farm House', 168),\n",
       " ('Juice', 94),\n",
       " ('Fudge', 93),\n",
       " ('Tshirt', 92),\n",
       " ('Focaccia', 92),\n",
       " ('Half slice Monster ', 91),\n",
       " ('Lemon and coconut', 91),\n",
       " ('Tacos/Fajita', 91),\n",
       " ('Vegan Feast', 91),\n",
       " ('Sandwich', 91),\n",
       " ('Chicken Stew', 91),\n",
       " ('Baguette', 91),\n",
       " ('Empanadas', 91),\n",
       " ('Dulce de Leche', 91),\n",
       " ('Kids biscuit', 91),\n",
       " ('Victorian Sponge', 91),\n",
       " ('Crepes', 91),\n",
       " ('Spanish Brunch', 91),\n",
       " ('Toast', 91),\n",
       " ('Jam', 91),\n",
       " ('Chicken sand', 91),\n",
       " ('Fairy Doors', 91),\n",
       " ('Extra Salami or Feta', 91),\n",
       " ('Drinking chocolate spoons ', 91),\n",
       " ('Bakewell', 91),\n",
       " ('Gingerbread syrup', 91),\n",
       " ('Bacon', 91),\n",
       " ('Tiffin', 91),\n",
       " ('Keeping It Local', 91),\n",
       " ('Bowl Nic Pitt', 91),\n",
       " ('Muffin', 91),\n",
       " ('Gift voucher', 91),\n",
       " ('Hack the stack', 91),\n",
       " ('Duck egg', 91),\n",
       " ('Truffles', 91),\n",
       " ('Granola', 91),\n",
       " ('Muesli', 91),\n",
       " ('Mighty Protein', 91),\n",
       " (\"Ella's Kitchen Pouches\", 91),\n",
       " ('Argentina Night', 91),\n",
       " ('Caramel bites', 91),\n",
       " ('The BART', 91),\n",
       " ('Mortimer', 91),\n",
       " ('Christmas common', 91),\n",
       " ('Tartine', 91),\n",
       " ('Panatone', 91),\n",
       " ('Bread Pudding', 91),\n",
       " ('Nomad bag', 91),\n",
       " ('Frittata', 91),\n",
       " ('Olum & polenta', 91),\n",
       " ('Pick and Mix Bowls', 91),\n",
       " ('Brioche and salami', 91),\n",
       " ('Afternoon with the baker', 91),\n",
       " ('Raw bars', 91),\n",
       " ('Raspberry shortbread sandwich', 91),\n",
       " ('Brownie', 91),\n",
       " ('Hearty & Seasonal', 91),\n",
       " ('Cherry me Dried fruit', 91),\n",
       " ('Chimichurri Oil', 91),\n",
       " ('Basket', 91),\n",
       " ('The Nomad', 91),\n",
       " ('Bare Popcorn', 91),\n",
       " ('Postcard', 91),\n",
       " ('Crisps', 91),\n",
       " ('Eggs', 91),\n",
       " ('Pastry', 91),\n",
       " ('Pintxos', 91),\n",
       " ('Smoothies', 91),\n",
       " ('My-5 Fruit Shoot', 91),\n",
       " ('Polenta', 91),\n",
       " ('Vegan mincepie', 91),\n",
       " ('Alfajores', 91),\n",
       " ('Mineral water', 91),\n",
       " ('Medialuna', 91),\n",
       " ('Jammie Dodgers', 91),\n",
       " ('Spread', 91),\n",
       " ('Salad', 91),\n",
       " (\"Valentine's card\", 91),\n",
       " ('Scone', 91),\n",
       " ('Chocolates', 91),\n",
       " ('Hot chocolate', 91),\n",
       " ('Soup', 91),\n",
       " ('Honey', 91),\n",
       " ('Cookies', 91)]"
      ]
     },
     "execution_count": 22,
     "metadata": {},
     "output_type": "execute_result"
    }
   ],
   "source": [
    "sorted(num_occurences_in_path.items(), key=operator.itemgetter(1), reverse = True)"
   ]
  },
  {
   "cell_type": "markdown",
   "metadata": {},
   "source": [
    "### eigenvector centrality"
   ]
  },
  {
   "cell_type": "code",
   "execution_count": 23,
   "metadata": {
    "ExecuteTime": {
     "end_time": "2018-11-25T16:32:14.980416",
     "start_time": "2018-11-25T16:32:14.927384"
    },
    "collapsed": false,
    "scrolled": true
   },
   "outputs": [
    {
     "data": {
      "text/plain": [
       "[('Coffee', 0.20035240490161663),\n",
       " ('Bread', 0.19626506319171166),\n",
       " ('Tea', 0.1887269472717235),\n",
       " ('Cake', 0.18741334122580403),\n",
       " ('Juice', 0.18222989362153802),\n",
       " ('Cookies', 0.18207421050461017),\n",
       " ('Hot chocolate', 0.17737556987985856),\n",
       " ('Sandwich', 0.17643312583724682),\n",
       " ('Brownie', 0.17491609339629405),\n",
       " ('Muffin', 0.1722782276556668),\n",
       " ('Pastry', 0.1720270364636767),\n",
       " ('Alfajores', 0.17167554444973915),\n",
       " ('Medialuna', 0.16740343285761758),\n",
       " ('Truffles', 0.16011447650003727),\n",
       " ('Farm House', 0.15964311639023424),\n",
       " ('Soup', 0.1586145013691743),\n",
       " ('Scone', 0.15338879662521623),\n",
       " ('Toast', 0.1528066958839212),\n",
       " ('Coke', 0.1503238985400949),\n",
       " ('Spanish Brunch', 0.14713208571629402),\n",
       " ('Fudge', 0.14628365790211365),\n",
       " ('Mineral water', 0.14555762790642643),\n",
       " ('Smoothies', 0.14467402739489946),\n",
       " ('Scandinavian', 0.14429072061359147),\n",
       " ('Chicken Stew', 0.1406888413987323),\n",
       " ('Salad', 0.13691445813431372),\n",
       " ('Jam', 0.13644733572102438),\n",
       " ('Frittata', 0.13266795650717267),\n",
       " ('The Nomad', 0.12998776931797562),\n",
       " ('Tiffin', 0.129367208083141),\n",
       " ('Jammie Dodgers', 0.12650907358420602),\n",
       " ('Art Tray', 0.12515877968561398),\n",
       " ('Bakewell', 0.12027205369402223),\n",
       " ('Hearty & Seasonal', 0.11935652357247674),\n",
       " ('Baguette', 0.11423899609389085),\n",
       " ('Extra Salami or Feta', 0.1112054788638198),\n",
       " ('Tartine', 0.10373039824630548),\n",
       " ('Granola', 0.10351488561285639),\n",
       " ('Focaccia', 0.09436478555346839),\n",
       " ('Vegan mincepie', 0.08958213651139008),\n",
       " ('Keeping It Local', 0.0888434913595757),\n",
       " ('My-5 Fruit Shoot', 0.08657836637044124),\n",
       " (\"Ella's Kitchen Pouches\", 0.07386399128946057),\n",
       " ('Pick and Mix Bowls', 0.07377157094501753),\n",
       " ('Afternoon with the baker', 0.07319346096275577),\n",
       " ('Duck egg', 0.07156277473154744),\n",
       " ('Eggs', 0.07137913471501159),\n",
       " ('Chocolates', 0.0671334016338445),\n",
       " ('Crisps', 0.06653318570375237),\n",
       " ('Bare Popcorn', 0.0633319706405447),\n",
       " ('Vegan Feast', 0.0491085207963177),\n",
       " ('Nomad bag', 0.04857307351592342),\n",
       " ('Tacos/Fajita', 0.04786269992104194),\n",
       " ('Panatone', 0.04706840950502006),\n",
       " ('Gingerbread syrup', 0.04698621120383599),\n",
       " ('Drinking chocolate spoons ', 0.046075128317459725),\n",
       " ('Dulce de Leche', 0.04259149885997784),\n",
       " ('Lemon and coconut', 0.04203990993068129),\n",
       " ('Christmas common', 0.039627072321794556),\n",
       " ('Honey', 0.03945012419243283),\n",
       " ('Empanadas', 0.03718227620803376),\n",
       " ('Kids biscuit', 0.03605926055212405),\n",
       " ('Mighty Protein', 0.03429033279607922),\n",
       " ('Victorian Sponge', 0.033414379240314755),\n",
       " ('Crepes', 0.03254792004420767),\n",
       " ('Half slice Monster ', 0.031259181175532405),\n",
       " ('Tshirt', 0.029939956379954013),\n",
       " ('Brioche and salami', 0.029164973362827244),\n",
       " ('Caramel bites', 0.02661658702461713),\n",
       " ('Bowl Nic Pitt', 0.025455412129356068),\n",
       " ('Muesli', 0.024491345646723076),\n",
       " ('Cherry me Dried fruit', 0.02392378175875013),\n",
       " ('Bread Pudding', 0.021734677567387162),\n",
       " ('Coffee granules ', 0.02172718303259712),\n",
       " ('Argentina Night', 0.02148486299321164),\n",
       " ('Raspberry shortbread sandwich', 0.020197231689372496),\n",
       " ('Basket', 0.02002184650451368),\n",
       " ('Chicken sand', 0.017694126669044706),\n",
       " ('Hack the stack', 0.015961447232657477),\n",
       " ('Bacon', 0.013488764156461141),\n",
       " ('Spread', 0.01272513393003654),\n",
       " (\"Valentine's card\", 0.009883498999583592),\n",
       " ('Chimichurri Oil', 0.00807439347996528),\n",
       " ('Postcard', 0.007880338975948985),\n",
       " ('Fairy Doors', 0.00634020825451949),\n",
       " ('Gift voucher', 0.0052140132430902675),\n",
       " ('The BART', 0.0052140132430902675),\n",
       " ('Olum & polenta', 0.0052140132430902675),\n",
       " ('Raw bars', 0.005013758404137283),\n",
       " ('Polenta', 0.005013758404137283),\n",
       " ('Pintxos', 0.004102532728018759),\n",
       " ('Mortimer', 0.0005929666208030657),\n",
       " ('Adjustment', 3.46000407046467e-13),\n",
       " ('Siblings', 3.46000407046467e-13)]"
      ]
     },
     "execution_count": 23,
     "metadata": {},
     "output_type": "execute_result"
    }
   ],
   "source": [
    "sorted(nx.eigenvector_centrality(G).items(), key=operator.itemgetter(1), reverse = True)"
   ]
  },
  {
   "cell_type": "markdown",
   "metadata": {},
   "source": [
    "### betweeness centrality"
   ]
  },
  {
   "cell_type": "code",
   "execution_count": 24,
   "metadata": {
    "ExecuteTime": {
     "end_time": "2018-11-25T16:32:15.059658",
     "start_time": "2018-11-25T16:32:14.982516"
    },
    "collapsed": false,
    "scrolled": true
   },
   "outputs": [
    {
     "data": {
      "text/plain": [
       "[('Coffee', 0.1391136368845654),\n",
       " ('Bread', 0.1352907278074832),\n",
       " ('Tea', 0.09386835259533435),\n",
       " ('Cake', 0.053890891403435635),\n",
       " ('Scandinavian', 0.03449598384641857),\n",
       " ('Coke', 0.0265177452337779),\n",
       " ('Hot chocolate', 0.02517043156923536),\n",
       " ('Juice', 0.024889371839491366),\n",
       " ('Farm House', 0.02468897159808774),\n",
       " ('Coffee granules ', 0.021037868162692847),\n",
       " ('Sandwich', 0.0186579674792157),\n",
       " ('Cookies', 0.0165804180377092),\n",
       " ('Brownie', 0.015591417221146408),\n",
       " ('Fudge', 0.014745970696623468),\n",
       " ('Muffin', 0.014522835037888066),\n",
       " ('Alfajores', 0.01368030550879383),\n",
       " ('Soup', 0.013457905271244387),\n",
       " ('Salad', 0.01141597692191226),\n",
       " ('Medialuna', 0.0105298979537606),\n",
       " ('Pastry', 0.010463927715915974),\n",
       " ('Jam', 0.009410615360954284),\n",
       " ('Focaccia', 0.007856846814138375),\n",
       " ('Art Tray', 0.007528369735336214),\n",
       " ('Truffles', 0.0065596753315364745),\n",
       " ('Extra Salami or Feta', 0.005761320262381643),\n",
       " ('Scone', 0.005402701659824912),\n",
       " ('Frittata', 0.0051403333876073),\n",
       " ('My-5 Fruit Shoot', 0.0041498825290163625),\n",
       " ('Toast', 0.004147442342660699),\n",
       " ('Mineral water', 0.004108105988022808),\n",
       " ('Spanish Brunch', 0.0036207715901482285),\n",
       " ('Jammie Dodgers', 0.003576110459220984),\n",
       " ('Hearty & Seasonal', 0.00296045892175638),\n",
       " ('Tshirt', 0.0026350274206157027),\n",
       " ('The Nomad', 0.002226209829161885),\n",
       " ('Tiffin', 0.002217931787825368),\n",
       " ('Nomad bag', 0.002154311605213652),\n",
       " ('Smoothies', 0.0018167946979564024),\n",
       " ('Chicken Stew', 0.0017314083005731595),\n",
       " ('Granola', 0.0017287135358726132),\n",
       " ('Tartine', 0.0011833733124530985),\n",
       " ('Afternoon with the baker', 0.0011243805920021686),\n",
       " ('Eggs', 0.0011127763811905613),\n",
       " ('Baguette', 0.0009446323139710867),\n",
       " ('Bakewell', 0.0006578508023060475),\n",
       " ('Vegan Feast', 0.0005383504897247327),\n",
       " ('Bare Popcorn', 0.0005323274665842044),\n",
       " ('Postcard', 0.0003925884569398663),\n",
       " (\"Ella's Kitchen Pouches\", 0.0003433500326993982),\n",
       " (\"Valentine's card\", 0.00029470467656260907),\n",
       " ('Crisps', 0.00021075524541214004),\n",
       " ('Tacos/Fajita', 0.000196650266776494),\n",
       " ('Keeping It Local', 0.00017720373548278526),\n",
       " ('Kids biscuit', 0.00017545470736214072),\n",
       " ('Panatone', 0.00015464522468090156),\n",
       " ('Pick and Mix Bowls', 0.00013365988179519814),\n",
       " ('Honey', 0.00011468950706637368),\n",
       " ('Argentina Night', 8.94286483346792e-05),\n",
       " ('Vegan mincepie', 8.228393760062852e-05),\n",
       " ('Duck egg', 7.523858519375942e-05),\n",
       " ('Caramel bites', 7.374385004118524e-05),\n",
       " ('Cherry me Dried fruit', 3.586000255004463e-05),\n",
       " ('Chocolates', 2.6971625849606216e-05),\n",
       " ('Christmas common', 2.3197198512140186e-05),\n",
       " ('Half slice Monster ', 1.46096306685367e-05),\n",
       " ('Mighty Protein', 9.350163627863488e-06),\n",
       " ('Lemon and coconut', 0.0),\n",
       " ('Empanadas', 0.0),\n",
       " ('Dulce de Leche', 0.0),\n",
       " ('Victorian Sponge', 0.0),\n",
       " ('Crepes', 0.0),\n",
       " ('Adjustment', 0.0),\n",
       " ('Chicken sand', 0.0),\n",
       " ('Fairy Doors', 0.0),\n",
       " ('Drinking chocolate spoons ', 0.0),\n",
       " ('Raspberry shortbread sandwich', 0.0),\n",
       " ('Gingerbread syrup', 0.0),\n",
       " ('Bacon', 0.0),\n",
       " ('Bowl Nic Pitt', 0.0),\n",
       " ('Gift voucher', 0.0),\n",
       " ('Hack the stack', 0.0),\n",
       " ('Muesli', 0.0),\n",
       " ('The BART', 0.0),\n",
       " ('Bread Pudding', 0.0),\n",
       " ('Olum & polenta', 0.0),\n",
       " ('Brioche and salami', 0.0),\n",
       " ('Siblings', 0.0),\n",
       " ('Raw bars', 0.0),\n",
       " ('Chimichurri Oil', 0.0),\n",
       " ('Basket', 0.0),\n",
       " ('Pintxos', 0.0),\n",
       " ('Polenta', 0.0),\n",
       " ('Spread', 0.0),\n",
       " ('Mortimer', 0.0)]"
      ]
     },
     "execution_count": 24,
     "metadata": {},
     "output_type": "execute_result"
    }
   ],
   "source": [
    "sorted(nx.centrality.betweenness_centrality(G).items(), key=operator.itemgetter(1), reverse = True)"
   ]
  },
  {
   "cell_type": "markdown",
   "metadata": {},
   "source": [
    "### closeness centrality"
   ]
  },
  {
   "cell_type": "code",
   "execution_count": 25,
   "metadata": {
    "ExecuteTime": {
     "end_time": "2018-11-25T16:32:15.186082",
     "start_time": "2018-11-25T16:32:15.061595"
    },
    "collapsed": false,
    "scrolled": true
   },
   "outputs": [
    {
     "data": {
      "text/plain": [
       "[('Coffee', 0.8480286738351255),\n",
       " ('Bread', 0.8094819159335288),\n",
       " ('Tea', 0.7610513739545998),\n",
       " ('Cake', 0.7420250896057348),\n",
       " ('Juice', 0.7011260689188045),\n",
       " ('Hot chocolate', 0.6956485215053764),\n",
       " ('Cookies', 0.6902558973076602),\n",
       " ('Sandwich', 0.6797176393334976),\n",
       " ('Brownie', 0.6745682632779407),\n",
       " ('Muffin', 0.6694963214487832),\n",
       " ('Alfajores', 0.6694963214487832),\n",
       " ('Pastry', 0.6645000802439416),\n",
       " ('Medialuna', 0.6547280202403541),\n",
       " ('Farm House', 0.649948983596264),\n",
       " ('Soup', 0.6452392083528129),\n",
       " ('Truffles', 0.6360215053763442),\n",
       " ('Scandinavian', 0.6360215053763442),\n",
       " ('Fudge', 0.6315107145580722),\n",
       " ('Coke', 0.6226783968719453),\n",
       " ('Scone', 0.6226783968719453),\n",
       " ('Toast', 0.6183542413381123),\n",
       " ('Mineral water', 0.614089729328884),\n",
       " ('Spanish Brunch', 0.6098836352923848),\n",
       " ('Jam', 0.6057347670250897),\n",
       " ('Salad', 0.6057347670250897),\n",
       " ('Chicken Stew', 0.6016419645451904),\n",
       " ('Smoothies', 0.6016419645451904),\n",
       " ('Frittata', 0.59760409901133),\n",
       " ('Art Tray', 0.5896888129317097),\n",
       " ('Jammie Dodgers', 0.5896888129317097),\n",
       " ('Tiffin', 0.5858092812676854),\n",
       " ('The Nomad', 0.5858092812676854),\n",
       " ('Extra Salami or Feta', 0.5819804624358704),\n",
       " ('Hearty & Seasonal', 0.5819804624358704),\n",
       " ('Baguette', 0.5707885304659499),\n",
       " ('Bakewell', 0.5707885304659499),\n",
       " ('Granola', 0.563563359194229),\n",
       " ('Tartine', 0.563563359194229),\n",
       " ('My-5 Fruit Shoot', 0.5565188172043011),\n",
       " ('Focaccia', 0.5530621785881252),\n",
       " ('Keeping It Local', 0.546276139587044),\n",
       " ('Vegan mincepie', 0.5429451875163913),\n",
       " ('Afternoon with the baker', 0.5364036792330613),\n",
       " ('Eggs', 0.5331916811538213),\n",
       " ('Pick and Mix Bowls', 0.5300179211469533),\n",
       " ('Duck egg', 0.5268817204301075),\n",
       " (\"Ella's Kitchen Pouches\", 0.5237824161922834),\n",
       " ('Chocolates', 0.5237824161922834),\n",
       " ('Crisps', 0.5176919229807453),\n",
       " ('Nomad bag', 0.5146994841195849),\n",
       " ('Tacos/Fajita', 0.5117414411074033),\n",
       " ('Vegan Feast', 0.5088172043010752),\n",
       " ('Bare Popcorn', 0.5088172043010752),\n",
       " ('Honey', 0.5088172043010752),\n",
       " ('Gingerbread syrup', 0.5059261974584556),\n",
       " ('Panatone', 0.5059261974584556),\n",
       " ('Lemon and coconut', 0.5030678573598202),\n",
       " ('Empanadas', 0.5030678573598202),\n",
       " ('Dulce de Leche', 0.5030678573598202),\n",
       " ('Kids biscuit', 0.5002416334420684),\n",
       " ('Drinking chocolate spoons ', 0.5002416334420684),\n",
       " ('Tshirt', 0.5002416334420684),\n",
       " ('Christmas common', 0.5002416334420684),\n",
       " ('Victorian Sponge', 0.4974469874451853),\n",
       " ('Caramel bites', 0.4946833930704898),\n",
       " ('Brioche and salami', 0.4946833930704898),\n",
       " ('Crepes', 0.49195033565021096),\n",
       " ('Mighty Protein', 0.49195033565021096),\n",
       " ('Muesli', 0.489247311827957),\n",
       " ('Raspberry shortbread sandwich', 0.48657382924966214),\n",
       " ('Basket', 0.4839294062646096),\n",
       " ('Chicken sand', 0.4813135716361523),\n",
       " ('Coffee granules ', 0.4813135716361523),\n",
       " ('Half slice Monster ', 0.4787258642617644),\n",
       " ('Hack the stack', 0.4761658329020758),\n",
       " ('Bread Pudding', 0.4761658329020758),\n",
       " ('Cherry me Dried fruit', 0.4761658329020758),\n",
       " ('Argentina Night', 0.4736330359185541),\n",
       " ('Bowl Nic Pitt', 0.47112704101951414),\n",
       " ('Postcard', 0.46619377357428365),\n",
       " ('Bacon', 0.46136275001392835),\n",
       " ('Spread', 0.4519949784400415),\n",
       " ('Gift voucher', 0.4452150537634409),\n",
       " ('The BART', 0.4452150537634409),\n",
       " ('Olum & polenta', 0.4452150537634409),\n",
       " (\"Valentine's card\", 0.4364853468269028),\n",
       " ('Raw bars', 0.43015947223520856),\n",
       " ('Polenta', 0.43015947223520856),\n",
       " ('Chimichurri Oil', 0.4141535383845962),\n",
       " ('Fairy Doors', 0.39399562279950523),\n",
       " ('Pintxos', 0.3821588444321381),\n",
       " ('Mortimer', 0.3237927663734116),\n",
       " ('Adjustment', 0.0),\n",
       " ('Siblings', 0.0)]"
      ]
     },
     "execution_count": 25,
     "metadata": {},
     "output_type": "execute_result"
    }
   ],
   "source": [
    "sorted(nx.centrality.closeness.closeness_centrality(G).items(), key=operator.itemgetter(1), reverse = True)"
   ]
  },
  {
   "cell_type": "code",
   "execution_count": 26,
   "metadata": {
    "ExecuteTime": {
     "end_time": "2018-11-25T16:32:15.195763",
     "start_time": "2018-11-25T16:32:15.187845"
    },
    "collapsed": false,
    "scrolled": true
   },
   "outputs": [
    {
     "data": {
      "text/plain": [
       "[('Coffee', 0.8494623655913979),\n",
       " ('Bread', 0.8064516129032259),\n",
       " ('Tea', 0.7311827956989247),\n",
       " ('Cake', 0.6881720430107527),\n",
       " ('Juice', 0.6236559139784946),\n",
       " ('Hot chocolate', 0.6129032258064516),\n",
       " ('Cookies', 0.6021505376344086),\n",
       " ('Sandwich', 0.5806451612903226),\n",
       " ('Brownie', 0.5698924731182796),\n",
       " ('Muffin', 0.5591397849462366),\n",
       " ('Alfajores', 0.5591397849462366),\n",
       " ('Pastry', 0.5483870967741936),\n",
       " ('Medialuna', 0.5268817204301076),\n",
       " ('Farm House', 0.5053763440860215),\n",
       " ('Soup', 0.5053763440860215),\n",
       " ('Scandinavian', 0.49462365591397855),\n",
       " ('Truffles', 0.4838709677419355),\n",
       " ('Fudge', 0.4731182795698925),\n",
       " ('Coke', 0.4623655913978495),\n",
       " ('Scone', 0.4516129032258065),\n",
       " ('Toast', 0.4408602150537635),\n",
       " ('Spanish Brunch', 0.4301075268817205),\n",
       " ('Mineral water', 0.4301075268817205),\n",
       " ('Jam', 0.41935483870967744),\n",
       " ('Smoothies', 0.40860215053763443),\n",
       " ('Chicken Stew', 0.39784946236559143),\n",
       " ('Salad', 0.39784946236559143),\n",
       " ('Frittata', 0.38709677419354843),\n",
       " ('Jammie Dodgers', 0.37634408602150543),\n",
       " ('Tiffin', 0.3655913978494624),\n",
       " ('Art Tray', 0.3655913978494624),\n",
       " ('The Nomad', 0.3655913978494624),\n",
       " ('Hearty & Seasonal', 0.34408602150537637),\n",
       " ('Extra Salami or Feta', 0.33333333333333337),\n",
       " ('Bakewell', 0.32258064516129037),\n",
       " ('Baguette', 0.3118279569892473),\n",
       " ('Granola', 0.2903225806451613),\n",
       " ('Tartine', 0.2903225806451613),\n",
       " ('Focaccia', 0.2688172043010753),\n",
       " ('My-5 Fruit Shoot', 0.25806451612903225),\n",
       " ('Vegan mincepie', 0.23655913978494625),\n",
       " ('Keeping It Local', 0.22580645161290325),\n",
       " ('Afternoon with the baker', 0.21505376344086025),\n",
       " (\"Ella's Kitchen Pouches\", 0.20430107526881722),\n",
       " ('Pick and Mix Bowls', 0.20430107526881722),\n",
       " ('Eggs', 0.20430107526881722),\n",
       " ('Bare Popcorn', 0.19354838709677422),\n",
       " ('Crisps', 0.1827956989247312),\n",
       " ('Duck egg', 0.1827956989247312),\n",
       " ('Chocolates', 0.16129032258064518),\n",
       " ('Vegan Feast', 0.13978494623655915),\n",
       " ('Panatone', 0.13978494623655915),\n",
       " ('Nomad bag', 0.13978494623655915),\n",
       " ('Gingerbread syrup', 0.12903225806451613),\n",
       " ('Tacos/Fajita', 0.11827956989247312),\n",
       " ('Dulce de Leche', 0.11827956989247312),\n",
       " ('Kids biscuit', 0.11827956989247312),\n",
       " ('Tshirt', 0.11827956989247312),\n",
       " ('Christmas common', 0.11827956989247312),\n",
       " ('Honey', 0.11827956989247312),\n",
       " ('Drinking chocolate spoons ', 0.10752688172043012),\n",
       " ('Half slice Monster ', 0.09677419354838711),\n",
       " ('Lemon and coconut', 0.09677419354838711),\n",
       " ('Victorian Sponge', 0.09677419354838711),\n",
       " ('Empanadas', 0.08602150537634409),\n",
       " ('Mighty Protein', 0.08602150537634409),\n",
       " ('Argentina Night', 0.08602150537634409),\n",
       " ('Coffee granules ', 0.08602150537634409),\n",
       " ('Crepes', 0.07526881720430108),\n",
       " ('Muesli', 0.07526881720430108),\n",
       " ('Caramel bites', 0.07526881720430108),\n",
       " ('Bowl Nic Pitt', 0.06451612903225806),\n",
       " ('Brioche and salami', 0.06451612903225806),\n",
       " ('Cherry me Dried fruit', 0.06451612903225806),\n",
       " ('Basket', 0.06451612903225806),\n",
       " ('Postcard', 0.06451612903225806),\n",
       " (\"Valentine's card\", 0.06451612903225806),\n",
       " ('Bread Pudding', 0.05376344086021506),\n",
       " ('Chicken sand', 0.043010752688172046),\n",
       " ('Raspberry shortbread sandwich', 0.043010752688172046),\n",
       " ('Hack the stack', 0.043010752688172046),\n",
       " ('Bacon', 0.03225806451612903),\n",
       " ('Pintxos', 0.03225806451612903),\n",
       " ('Spread', 0.03225806451612903),\n",
       " ('Mortimer', 0.03225806451612903),\n",
       " ('Adjustment', 0.021505376344086023),\n",
       " ('Fairy Doors', 0.021505376344086023),\n",
       " ('Siblings', 0.021505376344086023),\n",
       " ('Chimichurri Oil', 0.021505376344086023),\n",
       " ('Gift voucher', 0.010752688172043012),\n",
       " ('The BART', 0.010752688172043012),\n",
       " ('Olum & polenta', 0.010752688172043012),\n",
       " ('Raw bars', 0.010752688172043012),\n",
       " ('Polenta', 0.010752688172043012)]"
      ]
     },
     "execution_count": 26,
     "metadata": {},
     "output_type": "execute_result"
    }
   ],
   "source": [
    "sorted(nx.centrality.degree_centrality(G).items(), key=operator.itemgetter(1), reverse = True)"
   ]
  },
  {
   "cell_type": "code",
   "execution_count": 27,
   "metadata": {
    "ExecuteTime": {
     "end_time": "2018-11-25T16:32:15.294196",
     "start_time": "2018-11-25T16:32:15.197726"
    },
    "collapsed": false
   },
   "outputs": [
    {
     "data": {
      "text/plain": [
       "[('Coffee', 0.1390545452291039),\n",
       " ('Bread', 0.1351598402022986),\n",
       " ('Tea', 0.09375998351711581),\n",
       " ('Cake', 0.05360788202482997),\n",
       " ('Scandinavian', 0.034348322677398006),\n",
       " ('Coke', 0.02654774674973964),\n",
       " ('Hot chocolate', 0.0251977565710928),\n",
       " ('Juice', 0.02482933773390197),\n",
       " ('Farm House', 0.02467641281890259),\n",
       " ('Coffee granules ', 0.021037868162692847),\n",
       " ('Sandwich', 0.01858477942171138),\n",
       " ('Cookies', 0.016540555892855364),\n",
       " ('Brownie', 0.015556437882977807),\n",
       " ('Fudge', 0.014751116000055735),\n",
       " ('Muffin', 0.014481703135784393),\n",
       " ('Alfajores', 0.01365670646172823),\n",
       " ('Soup', 0.013421893316752266),\n",
       " ('Salad', 0.011273716945628759),\n",
       " ('Medialuna', 0.01050055038308417),\n",
       " ('Pastry', 0.010445708458759527),\n",
       " ('Jam', 0.00941655728086934),\n",
       " ('Focaccia', 0.0079941430463877),\n",
       " ('Art Tray', 0.007572648812863963),\n",
       " ('Truffles', 0.006575218080443918),\n",
       " ('Extra Salami or Feta', 0.005785552009814667),\n",
       " ('Scone', 0.005391201901694068),\n",
       " ('Frittata', 0.005150348534325847),\n",
       " ('My-5 Fruit Shoot', 0.004253768399360328),\n",
       " ('Toast', 0.004160228037540077),\n",
       " ('Mineral water', 0.004122567426966289),\n",
       " ('Spanish Brunch', 0.0036210713644575293),\n",
       " ('Jammie Dodgers', 0.0035994538971205227),\n",
       " ('Hearty & Seasonal', 0.00298492086187103),\n",
       " ('Tshirt', 0.002821968861968312),\n",
       " ('The Nomad', 0.002249243848408655),\n",
       " ('Tiffin', 0.002240407413743887),\n",
       " ('Nomad bag', 0.0021739087786709133),\n",
       " ('Smoothies', 0.0018205273608309135),\n",
       " ('Chicken Stew', 0.0017644637945751864),\n",
       " ('Granola', 0.0017590015251983187),\n",
       " ('Tartine', 0.0011938042029528257),\n",
       " ('Afternoon with the baker', 0.0011579064961944978),\n",
       " ('Eggs', 0.0011271733045926594),\n",
       " ('Baguette', 0.0009562393863512599),\n",
       " ('Bakewell', 0.0006650481728836889),\n",
       " ('Postcard', 0.0006528704282086841),\n",
       " ('Vegan Feast', 0.0005773355001966506),\n",
       " ('Bare Popcorn', 0.000542947994114957),\n",
       " (\"Ella's Kitchen Pouches\", 0.0003422292605322059),\n",
       " (\"Valentine's card\", 0.00033130622775316557),\n",
       " ('Crisps', 0.0002147936799058818),\n",
       " ('Tacos/Fajita', 0.00019665026677649403),\n",
       " ('Keeping It Local', 0.00017897316715615165),\n",
       " ('Kids biscuit', 0.00017545470736214075),\n",
       " ('Panatone', 0.0001629749089392133),\n",
       " ('Pick and Mix Bowls', 0.00013965652054184196),\n",
       " ('Honey', 0.00012325215691274597),\n",
       " ('Argentina Night', 8.94286483346792e-05),\n",
       " ('Vegan mincepie', 8.369263857403385e-05),\n",
       " ('Duck egg', 7.52385851937594e-05),\n",
       " ('Caramel bites', 7.374385004118524e-05),\n",
       " ('Cherry me Dried fruit', 3.5860002550044606e-05),\n",
       " ('Chocolates', 2.697162584960625e-05),\n",
       " ('Christmas common', 2.413473020385554e-05),\n",
       " ('Half slice Monster ', 1.46096306685367e-05),\n",
       " ('Mighty Protein', 9.350163627863497e-06),\n",
       " ('Lemon and coconut', 0.0),\n",
       " ('Empanadas', 0.0),\n",
       " ('Dulce de Leche', 0.0),\n",
       " ('Victorian Sponge', 0.0),\n",
       " ('Crepes', 0.0),\n",
       " ('Adjustment', 0.0),\n",
       " ('Chicken sand', 0.0),\n",
       " ('Fairy Doors', 0.0),\n",
       " ('Drinking chocolate spoons ', 0.0),\n",
       " ('Raspberry shortbread sandwich', 0.0),\n",
       " ('Gingerbread syrup', 0.0),\n",
       " ('Bacon', 0.0),\n",
       " ('Bowl Nic Pitt', 0.0),\n",
       " ('Gift voucher', 0.0),\n",
       " ('Hack the stack', 0.0),\n",
       " ('Muesli', 0.0),\n",
       " ('The BART', 0.0),\n",
       " ('Bread Pudding', 0.0),\n",
       " ('Olum & polenta', 0.0),\n",
       " ('Brioche and salami', 0.0),\n",
       " ('Siblings', 0.0),\n",
       " ('Raw bars', 0.0),\n",
       " ('Chimichurri Oil', 0.0),\n",
       " ('Basket', 0.0),\n",
       " ('Pintxos', 0.0),\n",
       " ('Polenta', 0.0),\n",
       " ('Spread', 0.0),\n",
       " ('Mortimer', 0.0)]"
      ]
     },
     "execution_count": 27,
     "metadata": {},
     "output_type": "execute_result"
    }
   ],
   "source": [
    "sorted(nx.centrality.load_centrality(G).items(), key=operator.itemgetter(1), reverse = True)"
   ]
  }
 ],
 "metadata": {
  "anaconda-cloud": {},
  "kernelspec": {
   "display_name": "Python [default]",
   "language": "python",
   "name": "python3"
  },
  "language_info": {
   "codemirror_mode": {
    "name": "ipython",
    "version": 3
   },
   "file_extension": ".py",
   "mimetype": "text/x-python",
   "name": "python",
   "nbconvert_exporter": "python",
   "pygments_lexer": "ipython3",
   "version": "3.5.4"
  },
  "toc": {
   "colors": {
    "hover_highlight": "#DAA520",
    "running_highlight": "#FF0000",
    "selected_highlight": "#FFD700"
   },
   "moveMenuLeft": true,
   "nav_menu": {
    "height": "29px",
    "width": "252px"
   },
   "navigate_menu": true,
   "number_sections": true,
   "sideBar": true,
   "threshold": 4,
   "toc_cell": false,
   "toc_section_display": "block",
   "toc_window_display": false
  }
 },
 "nbformat": 4,
 "nbformat_minor": 2
}
