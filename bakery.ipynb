{
 "cells": [
  {
   "cell_type": "code",
   "execution_count": 1,
   "metadata": {
    "ExecuteTime": {
     "end_time": "2018-11-11T22:54:33.811057",
     "start_time": "2018-11-11T22:54:32.504103"
    },
    "collapsed": true
   },
   "outputs": [],
   "source": [
    "import pandas\n",
    "import matplotlib.pyplot as plt\n",
    "import networkx as nx\n",
    "from datetime import datetime\n",
    "import itertools\n",
    "import time\n",
    "import operator\n",
    "%matplotlib inline"
   ]
  },
  {
   "cell_type": "code",
   "execution_count": 2,
   "metadata": {
    "ExecuteTime": {
     "end_time": "2018-11-11T22:54:33.837631",
     "start_time": "2018-11-11T22:54:33.812516"
    },
    "collapsed": false
   },
   "outputs": [
    {
     "data": {
      "text/html": [
       "<div>\n",
       "<style>\n",
       "    .dataframe thead tr:only-child th {\n",
       "        text-align: right;\n",
       "    }\n",
       "\n",
       "    .dataframe thead th {\n",
       "        text-align: left;\n",
       "    }\n",
       "\n",
       "    .dataframe tbody tr th {\n",
       "        vertical-align: top;\n",
       "    }\n",
       "</style>\n",
       "<table border=\"1\" class=\"dataframe\">\n",
       "  <thead>\n",
       "    <tr style=\"text-align: right;\">\n",
       "      <th></th>\n",
       "      <th>Date</th>\n",
       "      <th>Time</th>\n",
       "      <th>Transaction</th>\n",
       "      <th>Item</th>\n",
       "    </tr>\n",
       "  </thead>\n",
       "  <tbody>\n",
       "    <tr>\n",
       "      <th>0</th>\n",
       "      <td>2016-10-30</td>\n",
       "      <td>09:58:11</td>\n",
       "      <td>1</td>\n",
       "      <td>Bread</td>\n",
       "    </tr>\n",
       "    <tr>\n",
       "      <th>1</th>\n",
       "      <td>2016-10-30</td>\n",
       "      <td>10:05:34</td>\n",
       "      <td>2</td>\n",
       "      <td>Scandinavian</td>\n",
       "    </tr>\n",
       "    <tr>\n",
       "      <th>2</th>\n",
       "      <td>2016-10-30</td>\n",
       "      <td>10:05:34</td>\n",
       "      <td>2</td>\n",
       "      <td>Scandinavian</td>\n",
       "    </tr>\n",
       "    <tr>\n",
       "      <th>3</th>\n",
       "      <td>2016-10-30</td>\n",
       "      <td>10:07:57</td>\n",
       "      <td>3</td>\n",
       "      <td>Hot chocolate</td>\n",
       "    </tr>\n",
       "    <tr>\n",
       "      <th>4</th>\n",
       "      <td>2016-10-30</td>\n",
       "      <td>10:07:57</td>\n",
       "      <td>3</td>\n",
       "      <td>Jam</td>\n",
       "    </tr>\n",
       "  </tbody>\n",
       "</table>\n",
       "</div>"
      ],
      "text/plain": [
       "         Date      Time  Transaction           Item\n",
       "0  2016-10-30  09:58:11            1          Bread\n",
       "1  2016-10-30  10:05:34            2   Scandinavian\n",
       "2  2016-10-30  10:05:34            2   Scandinavian\n",
       "3  2016-10-30  10:07:57            3  Hot chocolate\n",
       "4  2016-10-30  10:07:57            3            Jam"
      ]
     },
     "execution_count": 2,
     "metadata": {},
     "output_type": "execute_result"
    }
   ],
   "source": [
    "df = pandas.read_csv('BreadBasket_DMS.csv')\n",
    "df.head()"
   ]
  },
  {
   "cell_type": "markdown",
   "metadata": {},
   "source": [
    "### understand the date range of the dataset"
   ]
  },
  {
   "cell_type": "code",
   "execution_count": 3,
   "metadata": {
    "ExecuteTime": {
     "end_time": "2018-11-11T22:54:33.846875",
     "start_time": "2018-11-11T22:54:33.839462"
    },
    "collapsed": false
   },
   "outputs": [
    {
     "name": "stdout",
     "output_type": "stream",
     "text": [
      "2016-10-30\n",
      "2017-04-09\n"
     ]
    }
   ],
   "source": [
    "print(df['Date'].min())\n",
    "print(df['Date'].max())"
   ]
  },
  {
   "cell_type": "code",
   "execution_count": 4,
   "metadata": {
    "ExecuteTime": {
     "end_time": "2018-11-11T22:54:33.861960",
     "start_time": "2018-11-11T22:54:33.849490"
    },
    "collapsed": false
   },
   "outputs": [
    {
     "name": "stdout",
     "output_type": "stream",
     "text": [
      "161\n"
     ]
    },
    {
     "data": {
      "text/plain": [
       "159"
      ]
     },
     "execution_count": 4,
     "metadata": {},
     "output_type": "execute_result"
    }
   ],
   "source": [
    "## how many days are there between the datasets first and last date\n",
    "print((datetime.strptime(df['Date'].max(), '%Y-%m-%d') - datetime.strptime(df['Date'].min(), '%Y-%m-%d')).days)\n",
    "\n",
    "## how many days are there in the dataset\n",
    "df['Date'].nunique()"
   ]
  },
  {
   "cell_type": "markdown",
   "metadata": {},
   "source": [
    "###  explore the items sold"
   ]
  },
  {
   "cell_type": "code",
   "execution_count": 5,
   "metadata": {
    "ExecuteTime": {
     "end_time": "2018-11-11T22:54:33.874850",
     "start_time": "2018-11-11T22:54:33.863897"
    },
    "collapsed": false
   },
   "outputs": [
    {
     "name": "stdout",
     "output_type": "stream",
     "text": [
      "95\n"
     ]
    },
    {
     "data": {
      "text/plain": [
       "Item\n",
       "Coffee           5471\n",
       "Bread            3325\n",
       "Tea              1435\n",
       "Cake             1025\n",
       "Pastry            856\n",
       "NONE              786\n",
       "Sandwich          771\n",
       "Medialuna         616\n",
       "Hot chocolate     590\n",
       "Cookies           540\n",
       "dtype: int64"
      ]
     },
     "execution_count": 5,
     "metadata": {},
     "output_type": "execute_result"
    }
   ],
   "source": [
    "print(df['Item'].nunique())\n",
    "df.groupby('Item').size().sort_values(ascending = False).head(10)"
   ]
  },
  {
   "cell_type": "markdown",
   "metadata": {},
   "source": [
    "#### remove NONE item"
   ]
  },
  {
   "cell_type": "code",
   "execution_count": 6,
   "metadata": {
    "ExecuteTime": {
     "end_time": "2018-11-11T22:54:33.884835",
     "start_time": "2018-11-11T22:54:33.876223"
    },
    "collapsed": false
   },
   "outputs": [
    {
     "name": "stdout",
     "output_type": "stream",
     "text": [
      "21293\n",
      "20507\n"
     ]
    }
   ],
   "source": [
    "print(len(df))\n",
    "df = df[df['Item']!='NONE']\n",
    "print(len(df))"
   ]
  },
  {
   "cell_type": "markdown",
   "metadata": {},
   "source": [
    "## create an undirected weighted graph with all the items that appear on the same transaction"
   ]
  },
  {
   "cell_type": "markdown",
   "metadata": {},
   "source": [
    "* The nodes in the graph are all the unique items that were purchased from the bakery.\n",
    "* There will be an undirected edge between item x and item y if x and y appear in the same transaction.\n",
    "    * Hence, a transaction that has 3 items, x,y,z, in it will produce 3 edges: (x,y), (x,z), (y,z).\n",
    "* The edge between x and y will be weighted according to the number of transaction that x and y appear in together.\n",
    "* If a transaction has only iteam x in it,  there will be a self edge between x and x in the graph."
   ]
  },
  {
   "cell_type": "code",
   "execution_count": 7,
   "metadata": {
    "ExecuteTime": {
     "end_time": "2018-11-11T22:54:35.098249",
     "start_time": "2018-11-11T22:54:33.886492"
    },
    "collapsed": false
   },
   "outputs": [
    {
     "data": {
      "text/html": [
       "<div>\n",
       "<style>\n",
       "    .dataframe thead tr:only-child th {\n",
       "        text-align: right;\n",
       "    }\n",
       "\n",
       "    .dataframe thead th {\n",
       "        text-align: left;\n",
       "    }\n",
       "\n",
       "    .dataframe tbody tr th {\n",
       "        vertical-align: top;\n",
       "    }\n",
       "</style>\n",
       "<table border=\"1\" class=\"dataframe\">\n",
       "  <thead>\n",
       "    <tr style=\"text-align: right;\">\n",
       "      <th></th>\n",
       "      <th>Transaction</th>\n",
       "      <th>items</th>\n",
       "      <th>num_items</th>\n",
       "    </tr>\n",
       "  </thead>\n",
       "  <tbody>\n",
       "    <tr>\n",
       "      <th>0</th>\n",
       "      <td>1</td>\n",
       "      <td>[Bread]</td>\n",
       "      <td>1</td>\n",
       "    </tr>\n",
       "    <tr>\n",
       "      <th>1</th>\n",
       "      <td>2</td>\n",
       "      <td>[Scandinavian]</td>\n",
       "      <td>1</td>\n",
       "    </tr>\n",
       "    <tr>\n",
       "      <th>2</th>\n",
       "      <td>3</td>\n",
       "      <td>[Hot chocolate, Jam, Cookies]</td>\n",
       "      <td>3</td>\n",
       "    </tr>\n",
       "    <tr>\n",
       "      <th>3</th>\n",
       "      <td>4</td>\n",
       "      <td>[Muffin]</td>\n",
       "      <td>1</td>\n",
       "    </tr>\n",
       "    <tr>\n",
       "      <th>4</th>\n",
       "      <td>5</td>\n",
       "      <td>[Coffee, Pastry, Bread]</td>\n",
       "      <td>3</td>\n",
       "    </tr>\n",
       "  </tbody>\n",
       "</table>\n",
       "</div>"
      ],
      "text/plain": [
       "   Transaction                          items  num_items\n",
       "0            1                        [Bread]          1\n",
       "1            2                 [Scandinavian]          1\n",
       "2            3  [Hot chocolate, Jam, Cookies]          3\n",
       "3            4                       [Muffin]          1\n",
       "4            5        [Coffee, Pastry, Bread]          3"
      ]
     },
     "execution_count": 7,
     "metadata": {},
     "output_type": "execute_result"
    }
   ],
   "source": [
    "## produce a dataframe with a list of all the unique iteams for each transaction.\n",
    "\n",
    "item_combinations = pandas.DataFrame({'items' : df.groupby('Transaction')['Item'].unique(),\n",
    "                                     'num_items' : df.groupby('Transaction')['Item'].nunique() })\n",
    "item_combinations.reset_index(inplace = True)\n",
    "\n",
    "item_combinations.head()"
   ]
  },
  {
   "cell_type": "code",
   "execution_count": 8,
   "metadata": {
    "ExecuteTime": {
     "end_time": "2018-11-11T22:54:35.223033",
     "start_time": "2018-11-11T22:54:35.104795"
    },
    "collapsed": false
   },
   "outputs": [
    {
     "data": {
      "text/plain": [
       "{'boxes': [<matplotlib.lines.Line2D at 0x11db0cef0>],\n",
       " 'caps': [<matplotlib.lines.Line2D at 0x11db13940>,\n",
       "  <matplotlib.lines.Line2D at 0x11db13d68>],\n",
       " 'fliers': [<matplotlib.lines.Line2D at 0x11db245f8>],\n",
       " 'means': [],\n",
       " 'medians': [<matplotlib.lines.Line2D at 0x11db241d0>],\n",
       " 'whiskers': [<matplotlib.lines.Line2D at 0x11db13080>,\n",
       "  <matplotlib.lines.Line2D at 0x11db13518>]}"
      ]
     },
     "execution_count": 8,
     "metadata": {},
     "output_type": "execute_result"
    },
    {
     "data": {
      "image/png": "[encoded data removed]",
      "text/plain": [
       "<Figure size 432x288 with 1 Axes>"
      ]
     },
     "metadata": {},
     "output_type": "display_data"
    }
   ],
   "source": [
    "plt.boxplot(item_combinations['num_items'])"
   ]
  },
  {
   "cell_type": "code",
   "execution_count": 9,
   "metadata": {
    "ExecuteTime": {
     "end_time": "2018-11-11T22:54:35.234919",
     "start_time": "2018-11-11T22:54:35.225271"
    },
    "collapsed": false
   },
   "outputs": [],
   "source": [
    "# function to take a list of items and a graph G and add all the appropriate edges to G\n",
    "\n",
    "def add_edges_for_same_transaction(list, G):\n",
    "    if len(list) == 1: ##if there is only one item in the transaction add a self-edge\n",
    "        if G.has_edge(list[0], list[0]):\n",
    "            G[list[0]][list[0]]['weight'] += 1 #if this edge already exists, just increase its weight by one\n",
    "        else:\n",
    "            G.add_edge(list[0], list[0], weight = 1) #othewise add the edge\n",
    "        return G\n",
    "    \n",
    "    for couple in itertools.combinations(list, 2): #get all combinations of size 2 from each transaction\n",
    "        if G.has_edge(couple[0], couple[1]):\n",
    "            G[couple[0]][couple[1]]['weight'] += 1 \n",
    "        else:\n",
    "            G.add_edge(couple[0], couple[1], weight = 1) #the graph is undirected, so it doesn't matter which iteam comes first\n",
    "\n",
    "    return G"
   ]
  },
  {
   "cell_type": "code",
   "execution_count": 10,
   "metadata": {
    "ExecuteTime": {
     "end_time": "2018-11-11T22:54:35.578171",
     "start_time": "2018-11-11T22:54:35.237144"
    },
    "collapsed": false
   },
   "outputs": [
    {
     "name": "stdout",
     "output_type": "stream",
     "text": [
      "94\n",
      "1112\n",
      "0.2694549560546875\n",
      "94\n",
      "1112\n",
      "0.05865001678466797\n"
     ]
    }
   ],
   "source": [
    "# create the graph object and populate it according to item_combinations dataframe using the function above\n",
    "\n",
    "## two ways of achieving the same thing.\n",
    "## the for loop approach is much slower than the apply appraoch\n",
    "\n",
    "start = time.time()\n",
    "G = nx.Graph()\n",
    "for i in range(len(item_combinations)):\n",
    "    temp = item_combinations['items'][i]\n",
    "    G = add_edges_for_same_transaction(temp, G)\n",
    "\n",
    "print(G.number_of_nodes())\n",
    "print(G.number_of_edges())\n",
    "print(time.time() - start)\n",
    "\n",
    "start = time.time()\n",
    "G = nx.Graph()\n",
    "G = item_combinations['items'].apply(lambda x: add_edges_for_same_transaction(x, G))[0]\n",
    "print(G.number_of_nodes())\n",
    "print(G.number_of_edges())\n",
    "print(time.time() - start)"
   ]
  },
  {
   "cell_type": "markdown",
   "metadata": {},
   "source": [
    "## explore the resulting graph"
   ]
  },
  {
   "cell_type": "code",
   "execution_count": 11,
   "metadata": {
    "ExecuteTime": {
     "end_time": "2018-11-11T22:54:35.860501",
     "start_time": "2018-11-11T22:54:35.579975"
    },
    "collapsed": false
   },
   "outputs": [
    {
     "name": "stdout",
     "output_type": "stream",
     "text": [
      "94\n",
      "1112\n"
     ]
    }
   ],
   "source": [
    "G = nx.Graph()\n",
    "for i in range(len(item_combinations)):\n",
    "    temp = item_combinations['items'][i]\n",
    "    G = add_edges_for_same_transaction(temp, G)\n",
    "\n",
    "print(G.number_of_nodes())\n",
    "print(G.number_of_edges())"
   ]
  },
  {
   "cell_type": "markdown",
   "metadata": {},
   "source": [
    "### draw the Graph"
   ]
  },
  {
   "cell_type": "code",
   "execution_count": 12,
   "metadata": {
    "ExecuteTime": {
     "end_time": "2018-11-11T22:54:36.322472",
     "start_time": "2018-11-11T22:54:35.862190"
    },
    "collapsed": false
   },
   "outputs": [
    {
     "data": {
      "image/png": "[encoded data removed]",
      "text/plain": [
       "<Figure size 432x288 with 1 Axes>"
      ]
     },
     "metadata": {},
     "output_type": "display_data"
    }
   ],
   "source": [
    "nx.draw(G, with_labels = True)"
   ]
  },
  {
   "cell_type": "markdown",
   "metadata": {},
   "source": [
    "drawing the graph is not very helpful since everything is compressed."
   ]
  },
  {
   "cell_type": "markdown",
   "metadata": {},
   "source": [
    "### add a notion of distance to the graph"
   ]
  },
  {
   "cell_type": "code",
   "execution_count": 13,
   "metadata": {
    "ExecuteTime": {
     "end_time": "2018-11-11T22:54:36.330830",
     "start_time": "2018-11-11T22:54:36.323993"
    },
    "collapsed": true
   },
   "outputs": [],
   "source": [
    "#this code take the weight of each edge and sets the attibute distance for that edge to be the reverse\n",
    "\n",
    "g_distance_dict = {(e1, e2): 1 / weight for e1, e2, weight in G.edges(data='weight')}\n",
    "nx.set_edge_attributes(G, g_distance_dict, 'distance')"
   ]
  },
  {
   "cell_type": "markdown",
   "metadata": {},
   "source": [
    "The idea behind the above transformation is that the higher the weight between item x and y, the more frequently they appear together in transactions and hence the closer we want to consider them"
   ]
  },
  {
   "cell_type": "markdown",
   "metadata": {},
   "source": [
    "### Degrees"
   ]
  },
  {
   "cell_type": "code",
   "execution_count": 184,
   "metadata": {
    "ExecuteTime": {
     "end_time": "2018-11-12T16:43:43.583834",
     "start_time": "2018-11-12T16:43:43.578267"
    },
    "collapsed": false
   },
   "outputs": [
    {
     "data": {
      "text/plain": [
       "[('Coffee', 79),\n",
       " ('Bread', 75),\n",
       " ('Tea', 68),\n",
       " ('Cake', 64),\n",
       " ('Juice', 58),\n",
       " ('Hot chocolate', 57),\n",
       " ('Cookies', 56),\n",
       " ('Sandwich', 54),\n",
       " ('Brownie', 53),\n",
       " ('Alfajores', 52)]"
      ]
     },
     "execution_count": 184,
     "metadata": {},
     "output_type": "execute_result"
    }
   ],
   "source": [
    "#Top 10 highest degrees\n",
    "sorted_degrees = sorted(dict(nx.degree(G)).items(), key=operator.itemgetter(1), reverse = True)\n",
    "sorted_degrees[:10]"
   ]
  },
  {
   "cell_type": "code",
   "execution_count": 215,
   "metadata": {
    "ExecuteTime": {
     "end_time": "2018-11-12T16:52:39.958455",
     "start_time": "2018-11-12T16:52:39.945415"
    },
    "collapsed": false
   },
   "outputs": [
    {
     "data": {
      "text/plain": [
       "[('Coffee', 7285),\n",
       " ('Bread', 4722),\n",
       " ('Tea', 2572),\n",
       " ('Cake', 1997),\n",
       " ('Pastry', 1424),\n",
       " ('Sandwich', 1404),\n",
       " ('Hot chocolate', 1211),\n",
       " ('Medialuna', 1107),\n",
       " ('Cookies', 1080),\n",
       " ('Juice', 973)]"
      ]
     },
     "execution_count": 215,
     "metadata": {},
     "output_type": "execute_result"
    }
   ],
   "source": [
    "degrees = dict(nx.degree(G, weight = 'weight'))\n",
    "\n",
    "## the following loop is to address the fact that nx.degress doublecounts the nodes that have a self edge.\n",
    "## if the node coffee has 10 edges with itself, the function will count that as 20 because. \n",
    "# So I am taking whatever the function returns and I substract once the number of selfedges, if there are any.\n",
    "for key in list(degrees.keys()):\n",
    "    try:\n",
    "        degrees[key] = degrees[key] - G[key][key]['weight']\n",
    "        #print('done')\n",
    "    except: #this node doesn't have any self edges\n",
    "        continue\n",
    "\n",
    "sorted_degrees_weight = sorted(degrees.items(), key=operator.itemgetter(1), reverse = True)\n",
    "sorted_degrees_weight[:10]"
   ]
  },
  {
   "cell_type": "markdown",
   "metadata": {
    "ExecuteTime": {
     "end_time": "2018-11-12T16:24:47.341957",
     "start_time": "2018-11-12T16:24:47.336500"
    }
   },
   "source": [
    "### ratio of self degreee to overall degree"
   ]
  },
  {
   "cell_type": "markdown",
   "metadata": {
    "ExecuteTime": {
     "end_time": "2018-11-12T16:22:58.535693",
     "start_time": "2018-11-12T16:22:58.531688"
    }
   },
   "source": [
    "What percent of the degree of each node is edges towards itself (i.e., self edges)?\n",
    "The smaller the number, it means that the item is less frequently purchased by itself."
   ]
  },
  {
   "cell_type": "code",
   "execution_count": null,
   "metadata": {
    "ExecuteTime": {
     "end_time": "2018-11-12T16:52:28.958766",
     "start_time": "2018-11-12T16:52:28.950676"
    },
    "collapsed": false
   },
   "outputs": [],
   "source": []
  },
  {
   "cell_type": "code",
   "execution_count": 216,
   "metadata": {
    "ExecuteTime": {
     "end_time": "2018-11-12T16:52:41.488476",
     "start_time": "2018-11-12T16:52:41.479129"
    },
    "collapsed": false
   },
   "outputs": [
    {
     "data": {
      "text/plain": [
       "{'Adjustment': 1.0,\n",
       " 'Afternoon with the baker': 0.5166666666666667,\n",
       " 'Alfajores': 0.032133676092544985,\n",
       " 'Argentina Night': 0.2727272727272727,\n",
       " 'Art Tray': 0,\n",
       " 'Bacon': 0,\n",
       " 'Baguette': 0.29767441860465116,\n",
       " 'Bakewell': 0.018518518518518517,\n",
       " 'Bare Popcorn': 0.047619047619047616,\n",
       " 'Basket': 0.1,\n",
       " 'Bowl Nic Pitt': 0,\n",
       " 'Bread': 0.2524354087251165,\n",
       " 'Bread Pudding': 0,\n",
       " 'Brioche and salami': 0,\n",
       " 'Brownie': 0.043256997455470736,\n",
       " 'Cake': 0.04957436154231347,\n",
       " 'Caramel bites': 0,\n",
       " 'Cherry me Dried fruit': 0,\n",
       " 'Chicken Stew': 0.0636042402826855,\n",
       " 'Chicken sand': 0,\n",
       " 'Chimichurri Oil': 0,\n",
       " 'Chocolates': 0,\n",
       " 'Christmas common': 0.3333333333333333,\n",
       " 'Coffee': 0.163761153054221,\n",
       " 'Coffee granules ': 0.2222222222222222,\n",
       " 'Coke': 0.12176165803108809,\n",
       " 'Cookies': 0.041666666666666664,\n",
       " 'Crepes': 0,\n",
       " 'Crisps': 0.043478260869565216,\n",
       " 'Drinking chocolate spoons ': 0,\n",
       " 'Duck egg': 0,\n",
       " 'Dulce de Leche': 0.18181818181818182,\n",
       " 'Eggs': 0.11538461538461539,\n",
       " \"Ella's Kitchen Pouches\": 0.046511627906976744,\n",
       " 'Empanadas': 0,\n",
       " 'Extra Salami or Feta': 0.008,\n",
       " 'Fairy Doors': 0,\n",
       " 'Farm House': 0.384321223709369,\n",
       " 'Focaccia': 0.13186813186813187,\n",
       " 'Frittata': 0.022099447513812154,\n",
       " 'Fudge': 0.20161290322580644,\n",
       " 'Gift voucher': 0,\n",
       " 'Gingerbread syrup': 0.15384615384615385,\n",
       " 'Granola': 0.028169014084507043,\n",
       " 'Hack the stack': 0,\n",
       " 'Half slice Monster ': 0.18181818181818182,\n",
       " 'Hearty & Seasonal': 0.041666666666666664,\n",
       " 'Honey': 0.07692307692307693,\n",
       " 'Hot chocolate': 0.05697770437654831,\n",
       " 'Jam': 0.1511627906976744,\n",
       " 'Jammie Dodgers': 0.023972602739726026,\n",
       " 'Juice': 0.020554984583761562,\n",
       " 'Keeping It Local': 0,\n",
       " 'Kids biscuit': 0.10526315789473684,\n",
       " 'Lemon and coconut': 0,\n",
       " 'Medialuna': 0.051490514905149054,\n",
       " 'Mighty Protein': 0,\n",
       " 'Mineral water': 0.05421686746987952,\n",
       " 'Mortimer': 0.8,\n",
       " 'Muesli': 0.23076923076923078,\n",
       " 'Muffin': 0.055944055944055944,\n",
       " 'My-5 Fruit Shoot': 0,\n",
       " 'Nomad bag': 0,\n",
       " 'Olum & polenta': 0,\n",
       " 'Panatone': 0.15384615384615385,\n",
       " 'Pastry': 0.04564606741573034,\n",
       " 'Pick and Mix Bowls': 0.027777777777777776,\n",
       " 'Pintxos': 0.8333333333333334,\n",
       " 'Polenta': 0,\n",
       " 'Postcard': 0.25,\n",
       " 'Raspberry shortbread sandwich': 0,\n",
       " 'Raw bars': 0,\n",
       " 'Salad': 0.03076923076923077,\n",
       " 'Sandwich': 0.04772079772079772,\n",
       " 'Scandinavian': 0.28428927680798005,\n",
       " 'Scone': 0.0366412213740458,\n",
       " 'Siblings': 1.0,\n",
       " 'Smoothies': 0.024875621890547265,\n",
       " 'Soup': 0.05891016200294551,\n",
       " 'Spanish Brunch': 0.00904977375565611,\n",
       " 'Spread': 0,\n",
       " 'Tacos/Fajita': 0,\n",
       " 'Tartine': 0.0449438202247191,\n",
       " 'Tea': 0.07892690513219285,\n",
       " 'The BART': 0,\n",
       " 'The Nomad': 0.02877697841726619,\n",
       " 'Tiffin': 0.03323262839879154,\n",
       " 'Toast': 0.022328548644338118,\n",
       " 'Truffles': 0.03794642857142857,\n",
       " 'Tshirt': 0.4,\n",
       " \"Valentine's card\": 0.6666666666666666,\n",
       " 'Vegan Feast': 0.4166666666666667,\n",
       " 'Vegan mincepie': 0.028037383177570093,\n",
       " 'Victorian Sponge': 0.08333333333333333}"
      ]
     },
     "execution_count": 216,
     "metadata": {},
     "output_type": "execute_result"
    }
   ],
   "source": [
    "self_edge_ratio = dict()\n",
    "\n",
    "for i in range(len(sorted_degrees_weight)):\n",
    "    key = sorted_degrees_weight[i][0]\n",
    "    try:\n",
    "        self_edge_ratio[key] = G[key][key]['weight']/sorted_degrees_weight[i][1]\n",
    "    except:\n",
    "        self_edge_ratio[key] = 0 #this item doesnt have any edges with itself, hence no transactions that had only this item\n",
    "self_edge_ratio"
   ]
  },
  {
   "cell_type": "code",
   "execution_count": 217,
   "metadata": {
    "ExecuteTime": {
     "end_time": "2018-11-12T16:54:14.663836",
     "start_time": "2018-11-12T16:54:14.657180"
    },
    "collapsed": false
   },
   "outputs": [
    {
     "data": {
      "text/plain": [
       "[('Siblings', 1.0),\n",
       " ('Adjustment', 1.0),\n",
       " ('Pintxos', 0.8333333333333334),\n",
       " ('Mortimer', 0.8),\n",
       " (\"Valentine's card\", 0.6666666666666666),\n",
       " ('Afternoon with the baker', 0.5166666666666667),\n",
       " ('Vegan Feast', 0.4166666666666667),\n",
       " ('Tshirt', 0.4),\n",
       " ('Farm House', 0.384321223709369),\n",
       " ('Christmas common', 0.3333333333333333)]"
      ]
     },
     "execution_count": 217,
     "metadata": {},
     "output_type": "execute_result"
    }
   ],
   "source": [
    "sorted_self_edge = sorted(self_edge_ratio.items(), key=operator.itemgetter(1), reverse = True)\n",
    "print(sorted_self_edge[:10])\n",
    "#self_edge_ratio['Coffee']"
   ]
  },
  {
   "cell_type": "code",
   "execution_count": 108,
   "metadata": {
    "ExecuteTime": {
     "end_time": "2018-11-11T23:17:58.537477",
     "start_time": "2018-11-11T23:17:58.533405"
    },
    "collapsed": false
   },
   "outputs": [
    {
     "data": {
      "text/plain": [
       "AtlasView({'Mortimer': {'weight': 4, 'distance': 0.25}, 'Coffee granules ': {'weight': 1, 'distance': 1.0}})"
      ]
     },
     "execution_count": 108,
     "metadata": {},
     "output_type": "execute_result"
    }
   ],
   "source": []
  },
  {
   "cell_type": "code",
   "execution_count": 107,
   "metadata": {
    "ExecuteTime": {
     "end_time": "2018-11-11T23:17:42.864653",
     "start_time": "2018-11-11T23:17:42.860712"
    },
    "collapsed": false
   },
   "outputs": [
    {
     "data": {
      "text/plain": [
       "9"
      ]
     },
     "execution_count": 107,
     "metadata": {},
     "output_type": "execute_result"
    }
   ],
   "source": []
  },
  {
   "cell_type": "code",
   "execution_count": 99,
   "metadata": {
    "ExecuteTime": {
     "end_time": "2018-11-11T23:14:54.203592",
     "start_time": "2018-11-11T23:14:54.199078"
    },
    "collapsed": false
   },
   "outputs": [
    {
     "data": {
      "text/plain": [
       "KeysView(AtlasView({'Coffee': {'weight': 1, 'distance': 1.0}, 'Juice': {'weight': 1, 'distance': 1.0}, 'Art Tray': {'weight': 1, 'distance': 1.0}}))"
      ]
     },
     "execution_count": 99,
     "metadata": {},
     "output_type": "execute_result"
    }
   ],
   "source": []
  },
  {
   "cell_type": "code",
   "execution_count": 90,
   "metadata": {
    "ExecuteTime": {
     "end_time": "2018-11-11T23:12:59.894673",
     "start_time": "2018-11-11T23:12:59.890044"
    },
    "collapsed": false
   },
   "outputs": [
    {
     "name": "stdout",
     "output_type": "stream",
     "text": [
      "0\n",
      "4722\n"
     ]
    }
   ],
   "source": []
  },
  {
   "cell_type": "code",
   "execution_count": 39,
   "metadata": {
    "ExecuteTime": {
     "end_time": "2018-11-11T23:00:10.103030",
     "start_time": "2018-11-11T23:00:10.098871"
    },
    "collapsed": false
   },
   "outputs": [
    {
     "data": {
      "text/plain": [
       "79"
      ]
     },
     "execution_count": 39,
     "metadata": {},
     "output_type": "execute_result"
    }
   ],
   "source": []
  },
  {
   "cell_type": "markdown",
   "metadata": {},
   "source": [
    "### Explore the connectivity of the graph"
   ]
  },
  {
   "cell_type": "code",
   "execution_count": 17,
   "metadata": {
    "ExecuteTime": {
     "end_time": "2018-11-11T22:54:36.365294",
     "start_time": "2018-11-11T22:54:36.359817"
    },
    "collapsed": false
   },
   "outputs": [
    {
     "data": {
      "text/plain": [
       "False"
      ]
     },
     "execution_count": 17,
     "metadata": {},
     "output_type": "execute_result"
    }
   ],
   "source": [
    "#is the graph connected?\n",
    "nx.is_connected(G)"
   ]
  },
  {
   "cell_type": "markdown",
   "metadata": {},
   "source": [
    "### path centrality"
   ]
  },
  {
   "cell_type": "code",
   "execution_count": 18,
   "metadata": {
    "ExecuteTime": {
     "end_time": "2018-11-11T22:54:36.371990",
     "start_time": "2018-11-11T22:54:36.367124"
    },
    "collapsed": false
   },
   "outputs": [
    {
     "data": {
      "text/plain": [
       "['Coffee', 'Bread']"
      ]
     },
     "execution_count": 18,
     "metadata": {},
     "output_type": "execute_result"
    }
   ],
   "source": [
    "## how many closests paths, is each node involved in?\n",
    "\n",
    "nx.dijkstra_path(G, 'Coffee', 'Bread', weight = 'distance')"
   ]
  },
  {
   "cell_type": "code",
   "execution_count": null,
   "metadata": {
    "collapsed": true
   },
   "outputs": [],
   "source": [
    "## what percent of purchases were the item on its own versus with other stuff"
   ]
  }
 ],
 "metadata": {
  "anaconda-cloud": {},
  "kernelspec": {
   "display_name": "Python [default]",
   "language": "python",
   "name": "python3"
  },
  "language_info": {
   "codemirror_mode": {
    "name": "ipython",
    "version": 3
   },
   "file_extension": ".py",
   "mimetype": "text/x-python",
   "name": "python",
   "nbconvert_exporter": "python",
   "pygments_lexer": "ipython3",
   "version": "3.5.4"
  },
  "toc": {
   "colors": {
    "hover_highlight": "#DAA520",
    "running_highlight": "#FF0000",
    "selected_highlight": "#FFD700"
   },
   "moveMenuLeft": true,
   "nav_menu": {
    "height": "29px",
    "width": "252px"
   },
   "navigate_menu": true,
   "number_sections": true,
   "sideBar": true,
   "threshold": 4,
   "toc_cell": false,
   "toc_section_display": "block",
   "toc_window_display": false
  }
 },
 "nbformat": 4,
 "nbformat_minor": 2
}
